{
 "cells": [
  {
   "cell_type": "markdown",
   "metadata": {},
   "source": [
    "#### 3. 无重复字符的最长子串(m)"
   ]
  },
  {
   "cell_type": "code",
   "execution_count": 23,
   "metadata": {},
   "outputs": [],
   "source": [
    "class Solution:\n",
    "    def lengthOfLongestSubstring(self, s):\n",
    "        dic={}\n",
    "        i = 0\n",
    "        ans = 0\n",
    "        for j in range(len(s)):\n",
    "            if s[j] in dic:\n",
    "                i = max(dic[s[j]]+1,i)\n",
    "            dic[s[j]]=j\n",
    "            ans = max(ans,j-i+1)\n",
    "        return ans\n",
    "                "
   ]
  },
  {
   "cell_type": "markdown",
   "metadata": {},
   "source": [
    "#### 14.最长公共前缀(e)"
   ]
  },
  {
   "cell_type": "code",
   "execution_count": 6,
   "metadata": {},
   "outputs": [],
   "source": [
    "class Solution:\n",
    "    def longestCommonPrefix(self, strs):\n",
    "        if strs:\n",
    "            x1 = max(strs)\n",
    "            x2 = min(strs)\n",
    "            if len(x2) ==0:\n",
    "                return ''\n",
    "            if x1[0] != x2[0]:\n",
    "                return ''\n",
    "            for i,v in enumerate(x2):\n",
    "                if v != x1[i]:\n",
    "                    return x2[:i]\n",
    "            return x2\n",
    "        else:\n",
    "            return ''"
   ]
  },
  {
   "cell_type": "code",
   "execution_count": 15,
   "metadata": {},
   "outputs": [],
   "source": [
    "class Solution:\n",
    "    def longestCommonPrefix(self, strs):\n",
    "        if len(strs)==0:\n",
    "            return ''\n",
    "        if len(strs)==1:\n",
    "            return strs[0]\n",
    "        for i in range(len(strs[0])):\n",
    "            temp = strs[0][i]\n",
    "            for j in range(len(strs)):\n",
    "                if i >= len(strs[j]):\n",
    "                    return strs[0][:i]\n",
    "                if strs[j][i] != temp:\n",
    "                    return strs[0][:i]\n",
    "        return strs[0]"
   ]
  },
  {
   "cell_type": "code",
   "execution_count": 21,
   "metadata": {},
   "outputs": [],
   "source": [
    "a=Solution()"
   ]
  },
  {
   "cell_type": "code",
   "execution_count": 22,
   "metadata": {},
   "outputs": [
    {
     "data": {
      "text/plain": [
       "'fl'"
      ]
     },
     "execution_count": 22,
     "metadata": {},
     "output_type": "execute_result"
    }
   ],
   "source": [
    "a.longestCommonPrefix([\"flower\",\"flow\",\"flight\"])"
   ]
  },
  {
   "cell_type": "markdown",
   "metadata": {},
   "source": [
    "#### 76.最小覆盖子串 (h)\n",
    "\n",
    "\n",
    "https://blog.csdn.net/qq_17550379/article/details/83014880"
   ]
  },
  {
   "cell_type": "code",
   "execution_count": 32,
   "metadata": {},
   "outputs": [],
   "source": [
    "from collections import defaultdict"
   ]
  },
  {
   "cell_type": "code",
   "execution_count": 76,
   "metadata": {},
   "outputs": [],
   "source": [
    "from collections import defaultdict\n",
    "class Solution:\n",
    "    def minWindow(self, s, t):\n",
    "        if len(s)<len(t):\n",
    "            return ''\n",
    "        mem = defaultdict(int)\n",
    "        for c in t:\n",
    "            mem[c]+=1\n",
    "        t_len = len(t)\n",
    "        t_uniq = set(t)\n",
    "        \n",
    "        minl,minr = 0,float('inf')\n",
    "        \n",
    "        i = 0\n",
    "        for j,c in enumerate(s):\n",
    "            if mem[c]>0:\n",
    "                t_len -=1\n",
    "            mem[c] -=1\n",
    "            \n",
    "            if t_len ==0:\n",
    "                while (s[i] not in t_uniq) or (mem[s[i]]<0):\n",
    "                    if mem[s[i]]<0:\n",
    "                        mem[s[i]]+=1\n",
    "                    i+=1\n",
    "                if (minr - minl) > (j-i):\n",
    "                    minl,minr = i,j\n",
    "                mem[s[i]] +=1\n",
    "                i+=1\n",
    "                t_len +=1\n",
    "            \n",
    "        if minr != float('inf'):\n",
    "            return s[minl:minr+1]\n",
    "        else:\n",
    "            return ''        "
   ]
  },
  {
   "cell_type": "code",
   "execution_count": 77,
   "metadata": {},
   "outputs": [],
   "source": [
    "a=Solution()"
   ]
  },
  {
   "cell_type": "code",
   "execution_count": 79,
   "metadata": {},
   "outputs": [
    {
     "data": {
      "text/plain": [
       "'ABOC'"
      ]
     },
     "execution_count": 79,
     "metadata": {},
     "output_type": "execute_result"
    }
   ],
   "source": [
    "a.minWindow('ABOCC','ABC')"
   ]
  },
  {
   "cell_type": "markdown",
   "metadata": {},
   "source": [
    "#### 84. 柱状图中最大的矩形"
   ]
  },
  {
   "cell_type": "markdown",
   "metadata": {},
   "source": [
    "https://blog.csdn.net/qq_17550379/article/details/85093224\n",
    "\n",
    "https://cloud.tencent.com/developer/article/1358888\n",
    "\n",
    "https://blog.csdn.net/qq_37369124/article/details/87925635"
   ]
  },
  {
   "cell_type": "code",
   "execution_count": 39,
   "metadata": {},
   "outputs": [],
   "source": [
    "class Solution:\n",
    "    def largestRectangleArea(self, heights):\n",
    "        if len(heights) == 0:\n",
    "            return 0\n",
    "        stack = []\n",
    "        i = 0\n",
    "        max_m = 0\n",
    "        heights.append(0)\n",
    "        while i < len(heights):\n",
    "            if len(stack) == 0 or heights[i] >= heights[stack[-1]]:\n",
    "                stack.append(i)\n",
    "                i+=1\n",
    "            else:\n",
    "                while len(stack) != 0 and heights[stack[-1]]>heights[i]:\n",
    "                    a = stack.pop()\n",
    "                    if len(stack) == 0:\n",
    "                        max_m = max(max_m, i*heights[a])\n",
    "                    else:\n",
    "                        max_m = max(max_m, heights[a]*(i-stack[-1]-1))\n",
    "        return max_m"
   ]
  },
  {
   "cell_type": "code",
   "execution_count": 40,
   "metadata": {},
   "outputs": [],
   "source": [
    "a=Solution()"
   ]
  },
  {
   "cell_type": "code",
   "execution_count": 41,
   "metadata": {},
   "outputs": [
    {
     "data": {
      "text/plain": [
       "10"
      ]
     },
     "execution_count": 41,
     "metadata": {},
     "output_type": "execute_result"
    }
   ],
   "source": [
    "a.largestRectangleArea([2,1,5,6,2,3])"
   ]
  },
  {
   "cell_type": "markdown",
   "metadata": {},
   "source": [
    "#### 85. 最大矩形"
   ]
  },
  {
   "cell_type": "markdown",
   "metadata": {},
   "source": [
    "https://leetcode.com/problems/maximal-rectangle/discuss/245207/stack-and-DP-solution-in-Python\n",
    "\n",
    "https://blog.csdn.net/maxiaotiaoti/article/details/62230381"
   ]
  },
  {
   "cell_type": "code",
   "execution_count": 15,
   "metadata": {},
   "outputs": [],
   "source": [
    "test = [\n",
    "  [\"1\",\"0\",\"1\",\"0\",\"0\"],\n",
    "  [\"1\",\"0\",\"1\",\"1\",\"1\"],\n",
    "  [\"1\",\"1\",\"1\",\"1\",\"1\"],\n",
    "  [\"1\",\"0\",\"0\",\"1\",\"0\"]\n",
    "]"
   ]
  },
  {
   "cell_type": "code",
   "execution_count": 48,
   "metadata": {},
   "outputs": [],
   "source": [
    "#### 单调栈\n",
    "class Solution:\n",
    "    def largestRectangleArea(self, heights):\n",
    "        if len(heights) == 0:\n",
    "            return 0\n",
    "        stack = []\n",
    "        i = 0\n",
    "        max_m = 0\n",
    "        heights.append(0)\n",
    "        while i < len(heights):\n",
    "            if len(stack) == 0 or heights[i] >= heights[stack[-1]]:\n",
    "                stack.append(i)\n",
    "                i+=1\n",
    "            else:\n",
    "                while len(stack) != 0 and heights[stack[-1]]>heights[i]:\n",
    "                    a = stack.pop()\n",
    "                    if len(stack) == 0:\n",
    "                        max_m = max(max_m, i*heights[a])\n",
    "                    else:\n",
    "                        max_m = max(max_m, heights[a]*(i-stack[-1]-1))\n",
    "        return max_m\n",
    "    \n",
    "    def maximalRectangle(self, matrix):\n",
    "        if not matrix:\n",
    "            return 0\n",
    "        m = len(matrix)\n",
    "        n = len(matrix[0])\n",
    "        height = [0 for _ in range(n)]\n",
    "        max_area = 0\n",
    "        for i in range(m):\n",
    "            for j in range(n):\n",
    "                if matrix[i][j] == '1':\n",
    "                    height[j] = height[j] + 1\n",
    "                else:\n",
    "                    height[j] = 0\n",
    "            max_area = max(max_area, self.largestRectangleArea(height))\n",
    "        return max_area"
   ]
  },
  {
   "cell_type": "code",
   "execution_count": 49,
   "metadata": {},
   "outputs": [],
   "source": [
    "a=Solution()"
   ]
  },
  {
   "cell_type": "code",
   "execution_count": 50,
   "metadata": {},
   "outputs": [
    {
     "data": {
      "text/plain": [
       "1"
      ]
     },
     "execution_count": 50,
     "metadata": {},
     "output_type": "execute_result"
    }
   ],
   "source": [
    "a.maximalRectangle([[\"0\",\"1\"],[\"1\",\"0\"]])"
   ]
  },
  {
   "cell_type": "code",
   "execution_count": 18,
   "metadata": {},
   "outputs": [],
   "source": [
    "#### DP\n",
    "class Solution:\n",
    "    def maximalRectangle(self, matrix):\n",
    "        if not matrix:\n",
    "            return 0\n",
    "        m = len(matrix)\n",
    "        n = len(matrix[0])\n",
    "        height = [0 for _ in range(n)]\n",
    "        left = [0 for _ in range(n)]\n",
    "        right = [n for _ in range(n)]\n",
    "        max_area = 0\n",
    "        \n",
    "        for i in range(m):\n",
    "            for j in range(n):\n",
    "                ### compute height\n",
    "                if matrix[i][j] == '1':\n",
    "                    height[j] = height[j] + 1\n",
    "                else:\n",
    "                    height[j] = 0\n",
    "            ### compute left\n",
    "            cur_left = 0\n",
    "            for j in range(n):\n",
    "                if matrix[i][j] == '1':\n",
    "                    left[j] = max(left[j],cur_left)\n",
    "                else:\n",
    "                    left[j] = 0\n",
    "                    cur_left = j + 1\n",
    "            ### compute right\n",
    "            cur_right = n\n",
    "            for j in range(n-1,-1,-1):\n",
    "                if matrix[i][j] == '0':\n",
    "                    right[j] = n\n",
    "                    cur_right = j\n",
    "                else:\n",
    "                    right[j] = min(right[j],cur_right)\n",
    "            ### compute max area above row i\n",
    "            for j in range(n):\n",
    "                max_area = max(max_area, (right[j] - left[j])*height[j])\n",
    "        return max_area                "
   ]
  },
  {
   "cell_type": "code",
   "execution_count": 19,
   "metadata": {},
   "outputs": [],
   "source": [
    "a=Solution()"
   ]
  },
  {
   "cell_type": "code",
   "execution_count": 20,
   "metadata": {},
   "outputs": [
    {
     "data": {
      "text/plain": [
       "6"
      ]
     },
     "execution_count": 20,
     "metadata": {},
     "output_type": "execute_result"
    }
   ],
   "source": [
    "a.maximalRectangle(test)"
   ]
  },
  {
   "cell_type": "code",
   "execution_count": 23,
   "metadata": {},
   "outputs": [],
   "source": [
    "###单调栈(没学过数据结构好无助呀！！！)\n",
    "class Solution:\n",
    "    def maximalRectangle(self, matrix):\n",
    "        "
   ]
  },
  {
   "cell_type": "markdown",
   "metadata": {},
   "source": [
    "#### 209. 长度最小的子数组"
   ]
  },
  {
   "cell_type": "code",
   "execution_count": 24,
   "metadata": {},
   "outputs": [],
   "source": [
    "class Solution:\n",
    "    def minSubArrayLen(self, s, nums):\n",
    "        if len(nums)==0:\n",
    "            return 0\n",
    "        if sum(nums)<s:\n",
    "            return 0\n",
    "        i = 0\n",
    "        j = 0\n",
    "        sum1 = 0\n",
    "        ans = float('inf')\n",
    "        while j<len(nums):\n",
    "            while sum1 < s and j<len(nums):\n",
    "                sum1 += nums[j]\n",
    "                j+=1\n",
    "            while sum1 >=s and i<j:\n",
    "                sum1 -=nums[i]\n",
    "                i+=1\n",
    "            ans = min(ans,j-i+1)\n",
    "        return ans \n",
    "            "
   ]
  },
  {
   "cell_type": "code",
   "execution_count": 25,
   "metadata": {},
   "outputs": [],
   "source": [
    "a=Solution()"
   ]
  },
  {
   "cell_type": "code",
   "execution_count": 26,
   "metadata": {},
   "outputs": [
    {
     "data": {
      "text/plain": [
       "2"
      ]
     },
     "execution_count": 26,
     "metadata": {},
     "output_type": "execute_result"
    }
   ],
   "source": [
    "a.minSubArrayLen(7,[2,3,1,2,4,3])"
   ]
  },
  {
   "cell_type": "markdown",
   "metadata": {},
   "source": [
    "#### 221.最大正方形(m)"
   ]
  },
  {
   "cell_type": "markdown",
   "metadata": {},
   "source": [
    "https://blog.csdn.net/fuxuemingzhu/article/details/82992233"
   ]
  },
  {
   "cell_type": "code",
   "execution_count": 3,
   "metadata": {},
   "outputs": [],
   "source": [
    "test = [[\"1\",\"0\",\"1\",\"0\",\"0\"],[\"1\",\"0\",\"1\",\"1\",\"1\"],[\"1\",\"1\",\"1\",\"1\",\"1\"],[\"1\",\"0\",\"0\",\"1\",\"0\"]]"
   ]
  },
  {
   "cell_type": "code",
   "execution_count": 5,
   "metadata": {},
   "outputs": [
    {
     "data": {
      "text/plain": [
       "[['1', '0', '1', '0', '0'],\n",
       " ['1', '0', '1', '1', '1'],\n",
       " ['1', '1', '1', '1', '1'],\n",
       " ['1', '0', '0', '1', '0']]"
      ]
     },
     "execution_count": 5,
     "metadata": {},
     "output_type": "execute_result"
    }
   ],
   "source": [
    "test"
   ]
  },
  {
   "cell_type": "code",
   "execution_count": 10,
   "metadata": {},
   "outputs": [],
   "source": [
    "class Solution(object):\n",
    "    def maximalSquare(self, matrix):\n",
    "        if not matrix:\n",
    "            return 0\n",
    "        m = len(matrix)\n",
    "        n = len(matrix[0])\n",
    "        dp = [[0]*n for _ in range(m)]\n",
    "        for i in range(m):\n",
    "            dp[i][0] = int(matrix[i][0])\n",
    "        for j in range(n):\n",
    "            dp[0][j] = int(matrix[0][j])\n",
    "        for i in range(1,m):\n",
    "            for j in range(1,n):\n",
    "                if matrix[i][j] == '1':\n",
    "                    dp[i][j] = min(dp[i-1][j-1],dp[i][j-1],dp[i-1][j])+1\n",
    "        return max(map(max,dp))**2"
   ]
  },
  {
   "cell_type": "code",
   "execution_count": 11,
   "metadata": {},
   "outputs": [],
   "source": [
    "a=Solution()"
   ]
  },
  {
   "cell_type": "code",
   "execution_count": 12,
   "metadata": {},
   "outputs": [
    {
     "data": {
      "text/plain": [
       "4"
      ]
     },
     "execution_count": 12,
     "metadata": {},
     "output_type": "execute_result"
    }
   ],
   "source": [
    "a.maximalSquare(test)"
   ]
  }
 ],
 "metadata": {
  "kernelspec": {
   "display_name": "Python 3",
   "language": "python",
   "name": "python3"
  },
  "language_info": {
   "codemirror_mode": {
    "name": "ipython",
    "version": 3
   },
   "file_extension": ".py",
   "mimetype": "text/x-python",
   "name": "python",
   "nbconvert_exporter": "python",
   "pygments_lexer": "ipython3",
   "version": "3.7.2"
  }
 },
 "nbformat": 4,
 "nbformat_minor": 2
}
