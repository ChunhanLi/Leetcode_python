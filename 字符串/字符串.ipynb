{
 "cells": [
  {
   "cell_type": "markdown",
   "metadata": {},
   "source": [
    "#### 3. 无重复字符的最长子串(m)"
   ]
  },
  {
   "cell_type": "code",
   "execution_count": 23,
   "metadata": {},
   "outputs": [],
   "source": [
    "class Solution:\n",
    "    def lengthOfLongestSubstring(self, s):\n",
    "        dic={}\n",
    "        i = 0\n",
    "        ans = 0\n",
    "        for j in range(len(s)):\n",
    "            if s[j] in dic:\n",
    "                i = max(dic[s[j]]+1,i)\n",
    "            dic[s[j]]=j\n",
    "            ans = max(ans,j-i+1)\n",
    "        return ans\n",
    "                "
   ]
  },
  {
   "cell_type": "markdown",
   "metadata": {},
   "source": [
    "#### 14.最长公共前缀(e)"
   ]
  },
  {
   "cell_type": "code",
   "execution_count": 6,
   "metadata": {},
   "outputs": [],
   "source": [
    "class Solution:\n",
    "    def longestCommonPrefix(self, strs):\n",
    "        if strs:\n",
    "            x1 = max(strs)\n",
    "            x2 = min(strs)\n",
    "            if len(x2) ==0:\n",
    "                return ''\n",
    "            if x1[0] != x2[0]:\n",
    "                return ''\n",
    "            for i,v in enumerate(x2):\n",
    "                if v != x1[i]:\n",
    "                    return x2[:i]\n",
    "            return x2\n",
    "        else:\n",
    "            return ''"
   ]
  },
  {
   "cell_type": "code",
   "execution_count": 15,
   "metadata": {},
   "outputs": [],
   "source": [
    "class Solution:\n",
    "    def longestCommonPrefix(self, strs):\n",
    "        if len(strs)==0:\n",
    "            return ''\n",
    "        if len(strs)==1:\n",
    "            return strs[0]\n",
    "        for i in range(len(strs[0])):\n",
    "            temp = strs[0][i]\n",
    "            for j in range(len(strs)):\n",
    "                if i >= len(strs[j]):\n",
    "                    return strs[0][:i]\n",
    "                if strs[j][i] != temp:\n",
    "                    return strs[0][:i]\n",
    "        return strs[0]"
   ]
  },
  {
   "cell_type": "code",
   "execution_count": 21,
   "metadata": {},
   "outputs": [],
   "source": [
    "a=Solution()"
   ]
  },
  {
   "cell_type": "code",
   "execution_count": 22,
   "metadata": {},
   "outputs": [
    {
     "data": {
      "text/plain": [
       "'fl'"
      ]
     },
     "execution_count": 22,
     "metadata": {},
     "output_type": "execute_result"
    }
   ],
   "source": [
    "a.longestCommonPrefix([\"flower\",\"flow\",\"flight\"])"
   ]
  },
  {
   "cell_type": "markdown",
   "metadata": {},
   "source": [
    "#### 76.最小覆盖子串 (h)\n",
    "\n",
    "\n",
    "https://blog.csdn.net/qq_17550379/article/details/83014880"
   ]
  },
  {
   "cell_type": "code",
   "execution_count": 32,
   "metadata": {},
   "outputs": [],
   "source": [
    "from collections import defaultdict"
   ]
  },
  {
   "cell_type": "code",
   "execution_count": 76,
   "metadata": {},
   "outputs": [],
   "source": [
    "from collections import defaultdict\n",
    "class Solution:\n",
    "    def minWindow(self, s, t):\n",
    "        if len(s)<len(t):\n",
    "            return ''\n",
    "        mem = defaultdict(int)\n",
    "        for c in t:\n",
    "            mem[c]+=1\n",
    "        t_len = len(t)\n",
    "        t_uniq = set(t)\n",
    "        \n",
    "        minl,minr = 0,float('inf')\n",
    "        \n",
    "        i = 0\n",
    "        for j,c in enumerate(s):\n",
    "            if mem[c]>0:\n",
    "                t_len -=1\n",
    "            mem[c] -=1\n",
    "            \n",
    "            if t_len ==0:\n",
    "                while (s[i] not in t_uniq) or (mem[s[i]]<0):\n",
    "                    if mem[s[i]]<0:\n",
    "                        mem[s[i]]+=1\n",
    "                    i+=1\n",
    "                if (minr - minl) > (j-i):\n",
    "                    minl,minr = i,j\n",
    "                mem[s[i]] +=1\n",
    "                i+=1\n",
    "                t_len +=1\n",
    "            \n",
    "        if minr != float('inf'):\n",
    "            return s[minl:minr+1]\n",
    "        else:\n",
    "            return ''        "
   ]
  },
  {
   "cell_type": "code",
   "execution_count": 77,
   "metadata": {},
   "outputs": [],
   "source": [
    "a=Solution()"
   ]
  },
  {
   "cell_type": "code",
   "execution_count": 79,
   "metadata": {},
   "outputs": [
    {
     "data": {
      "text/plain": [
       "'ABOC'"
      ]
     },
     "execution_count": 79,
     "metadata": {},
     "output_type": "execute_result"
    }
   ],
   "source": [
    "a.minWindow('ABOCC','ABC')"
   ]
  },
  {
   "cell_type": "markdown",
   "metadata": {},
   "source": [
    "#### 209. 长度最小的子数组"
   ]
  },
  {
   "cell_type": "code",
   "execution_count": 24,
   "metadata": {},
   "outputs": [],
   "source": [
    "class Solution:\n",
    "    def minSubArrayLen(self, s, nums):\n",
    "        if len(nums)==0:\n",
    "            return 0\n",
    "        if sum(nums)<s:\n",
    "            return 0\n",
    "        i = 0\n",
    "        j = 0\n",
    "        sum1 = 0\n",
    "        ans = float('inf')\n",
    "        while j<len(nums):\n",
    "            while sum1 < s and j<len(nums):\n",
    "                sum1 += nums[j]\n",
    "                j+=1\n",
    "            while sum1 >=s and i<j:\n",
    "                sum1 -=nums[i]\n",
    "                i+=1\n",
    "            ans = min(ans,j-i+1)\n",
    "        return ans \n",
    "            "
   ]
  },
  {
   "cell_type": "code",
   "execution_count": 25,
   "metadata": {},
   "outputs": [],
   "source": [
    "a=Solution()"
   ]
  },
  {
   "cell_type": "code",
   "execution_count": 26,
   "metadata": {},
   "outputs": [
    {
     "data": {
      "text/plain": [
       "2"
      ]
     },
     "execution_count": 26,
     "metadata": {},
     "output_type": "execute_result"
    }
   ],
   "source": [
    "a.minSubArrayLen(7,[2,3,1,2,4,3])"
   ]
  }
 ],
 "metadata": {
  "kernelspec": {
   "display_name": "Python 3",
   "language": "python",
   "name": "python3"
  },
  "language_info": {
   "codemirror_mode": {
    "name": "ipython",
    "version": 3
   },
   "file_extension": ".py",
   "mimetype": "text/x-python",
   "name": "python",
   "nbconvert_exporter": "python",
   "pygments_lexer": "ipython3",
   "version": "3.7.2"
  }
 },
 "nbformat": 4,
 "nbformat_minor": 2
}
