{
 "cells": [
  {
   "cell_type": "markdown",
   "metadata": {},
   "source": [
    "#### 1. 'aaabbbc'->'a3b3c1'"
   ]
  },
  {
   "cell_type": "code",
   "execution_count": 54,
   "metadata": {},
   "outputs": [],
   "source": [
    "str1='bbaaac'"
   ]
  },
  {
   "cell_type": "code",
   "execution_count": 55,
   "metadata": {},
   "outputs": [],
   "source": [
    "def count_str(str1):\n",
    "    i=0\n",
    "    ct=1\n",
    "    re = ''\n",
    "    while (i+1) <= len(str1)-1:\n",
    "        if str1[i] == str1[i+1]:\n",
    "            ct +=1\n",
    "        else:\n",
    "            re = re + str1[i] + str(ct)\n",
    "            ct = 1\n",
    "        if (i+1) == len(str1)-1:\n",
    "            re = re + str1[i+1] + str(ct)\n",
    "        i += 1\n",
    "    return re"
   ]
  },
  {
   "cell_type": "code",
   "execution_count": 56,
   "metadata": {},
   "outputs": [
    {
     "data": {
      "text/plain": [
       "'b2a3c1'"
      ]
     },
     "execution_count": 56,
     "metadata": {},
     "output_type": "execute_result"
    }
   ],
   "source": [
    "count_str(str1)"
   ]
  },
  {
   "cell_type": "markdown",
   "metadata": {},
   "source": [
    "按顺序输出"
   ]
  },
  {
   "cell_type": "code",
   "execution_count": 68,
   "metadata": {},
   "outputs": [],
   "source": [
    "def count_str(str1):\n",
    "    save ={}\n",
    "    i=0\n",
    "    ct=1\n",
    "    re=''\n",
    "    while (i+1) <= len(str1)-1:\n",
    "        if str1[i] == str1[i+1]:\n",
    "            ct +=1\n",
    "        else:\n",
    "            save[str1[i]] = str(ct)\n",
    "            ct = 1\n",
    "        if (i+1) == len(str1)-1:\n",
    "            save[str1[i+1]]= str(ct)\n",
    "        i += 1\n",
    "    save = dict(sorted(save.items(), key = lambda x:x[0]))\n",
    "    for k,v in save.items():\n",
    "        re = re + k + v\n",
    "    return re"
   ]
  },
  {
   "cell_type": "code",
   "execution_count": 69,
   "metadata": {},
   "outputs": [
    {
     "data": {
      "text/plain": [
       "'a3b2c1'"
      ]
     },
     "execution_count": 69,
     "metadata": {},
     "output_type": "execute_result"
    }
   ],
   "source": [
    "count_str(str1)"
   ]
  },
  {
   "cell_type": "markdown",
   "metadata": {},
   "source": [
    "其他的"
   ]
  },
  {
   "cell_type": "code",
   "execution_count": 129,
   "metadata": {},
   "outputs": [],
   "source": [
    "a={'b':2,'c':1222,'a':2313}"
   ]
  },
  {
   "cell_type": "code",
   "execution_count": 131,
   "metadata": {},
   "outputs": [
    {
     "data": {
      "text/plain": [
       "{'a': 2313, 'b': 2, 'c': 1222}"
      ]
     },
     "execution_count": 131,
     "metadata": {},
     "output_type": "execute_result"
    }
   ],
   "source": [
    "dict(sorted(a.items()))"
   ]
  },
  {
   "cell_type": "code",
   "execution_count": 70,
   "metadata": {},
   "outputs": [],
   "source": [
    "from collections import defaultdict"
   ]
  },
  {
   "cell_type": "code",
   "execution_count": 103,
   "metadata": {},
   "outputs": [],
   "source": [
    "a=defaultdict(int)"
   ]
  },
  {
   "cell_type": "code",
   "execution_count": 104,
   "metadata": {},
   "outputs": [
    {
     "data": {
      "text/plain": [
       "0"
      ]
     },
     "execution_count": 104,
     "metadata": {},
     "output_type": "execute_result"
    }
   ],
   "source": [
    "a[2]"
   ]
  },
  {
   "cell_type": "code",
   "execution_count": 105,
   "metadata": {},
   "outputs": [
    {
     "data": {
      "text/plain": [
       "0"
      ]
     },
     "execution_count": 105,
     "metadata": {},
     "output_type": "execute_result"
    }
   ],
   "source": [
    "a[1]"
   ]
  },
  {
   "cell_type": "markdown",
   "metadata": {},
   "source": [
    "#### 2. 给定一个长度为N个整数的list，用最少的比较次数，得出list中的最大值和最小值"
   ]
  },
  {
   "cell_type": "code",
   "execution_count": 51,
   "metadata": {},
   "outputs": [],
   "source": [
    "list1 = [2,3,4,5,6,7,9,2,2]"
   ]
  },
  {
   "cell_type": "code",
   "execution_count": 52,
   "metadata": {},
   "outputs": [],
   "source": [
    "def get_min_max(list1):\n",
    "    list2 = list1.copy()\n",
    "    n = len(list2)\n",
    "    if list2[0] >= list2[1]:\n",
    "        min_max = [list2[1], list2[0]]\n",
    "    else:\n",
    "        min_max = [list2[0], list2[1]]\n",
    "    if n % 2 == 1:\n",
    "        list2.append(list2[n-1]) \n",
    "    for i in range(2, n-1):\n",
    "        if list2[i] > list2[i+1]:\n",
    "            if list2[i] > min_max[1]:\n",
    "                min_max[1] = list2[i]\n",
    "            if list2[i+1] < min_max[0]:\n",
    "                min_max[0] = list2[i+1]\n",
    "        else:\n",
    "            if list2[i+1] > min_max[1]:\n",
    "                min_max[1] = list2[i+1]\n",
    "            if list2[i] < min_max[0]:\n",
    "                min_max[0] = list2[i]\n",
    "    return min_max"
   ]
  },
  {
   "cell_type": "code",
   "execution_count": 53,
   "metadata": {},
   "outputs": [
    {
     "data": {
      "text/plain": [
       "[2, 9]"
      ]
     },
     "execution_count": 53,
     "metadata": {},
     "output_type": "execute_result"
    }
   ],
   "source": [
    "get_min_max(list1)"
   ]
  },
  {
   "cell_type": "markdown",
   "metadata": {},
   "source": [
    "#### 3. 设计一个随机算法，将一个整数M分成N份 要求每份在区间【minV, maxV】之间"
   ]
  },
  {
   "cell_type": "code",
   "execution_count": 133,
   "metadata": {},
   "outputs": [],
   "source": [
    "import numpy as np"
   ]
  },
  {
   "cell_type": "code",
   "execution_count": 174,
   "metadata": {},
   "outputs": [],
   "source": [
    "def split_number(M,N,minv,maxv):\n",
    "    save = []\n",
    "    while N >0:\n",
    "        l = max(minv, M-(N-1)*maxv)\n",
    "        u = min(maxv, M-(N-1)*minv)\n",
    "        temp = np.random.randint(l,u+1)\n",
    "        save.append(temp)\n",
    "        M -= temp\n",
    "        N -= 1\n",
    "    return save"
   ]
  },
  {
   "cell_type": "code",
   "execution_count": 223,
   "metadata": {},
   "outputs": [
    {
     "data": {
      "text/plain": [
       "[4, 2, 3]"
      ]
     },
     "execution_count": 223,
     "metadata": {},
     "output_type": "execute_result"
    }
   ],
   "source": [
    "split_number(9,3,2,4)"
   ]
  },
  {
   "cell_type": "markdown",
   "metadata": {},
   "source": [
    "#### 4. 给定一个整数数组 nums 和一个目标值 target，请你在该数组中找出和为目标值的那 两个 整数，并返回他们的数组下标。你可以假设每种输入只会对应一个答案。但是，你不能重复利用这个数组中同样的元素。"
   ]
  },
  {
   "cell_type": "code",
   "execution_count": 267,
   "metadata": {},
   "outputs": [],
   "source": [
    "def func(nums,target):\n",
    "    hmap = {}\n",
    "    for i,v in enumerate(nums):\n",
    "        residual = target - v\n",
    "        if residual in hmap:\n",
    "            return(hmap[residual],i)\n",
    "        hmap[v]=i"
   ]
  },
  {
   "cell_type": "code",
   "execution_count": 282,
   "metadata": {},
   "outputs": [
    {
     "data": {
      "text/plain": [
       "(1, 2)"
      ]
     },
     "execution_count": 282,
     "metadata": {},
     "output_type": "execute_result"
    }
   ],
   "source": [
    "func([2,7,11,15],18)"
   ]
  },
  {
   "cell_type": "code",
   "execution_count": 277,
   "metadata": {},
   "outputs": [],
   "source": [
    "def func(nums,target):\n",
    "    sorted_id = sorted(range(len(nums)), key = lambda x:nums[x])\n",
    "    i = 0\n",
    "    j = len(nums)-1\n",
    "    while j>i:\n",
    "        if nums[sorted_id[i]] + nums[sorted_id[j]] == target:\n",
    "            return i,j\n",
    "        elif nums[sorted_id[i]] + nums[sorted_id[j]] > target:\n",
    "            j -=1\n",
    "        else:\n",
    "            i +=1            "
   ]
  },
  {
   "cell_type": "code",
   "execution_count": 283,
   "metadata": {},
   "outputs": [
    {
     "data": {
      "text/plain": [
       "(1, 2)"
      ]
     },
     "execution_count": 283,
     "metadata": {},
     "output_type": "execute_result"
    }
   ],
   "source": [
    "func([2,7,9,11],16)"
   ]
  },
  {
   "cell_type": "markdown",
   "metadata": {},
   "source": [
    "#### 5.二分法"
   ]
  },
  {
   "cell_type": "code",
   "execution_count": 246,
   "metadata": {},
   "outputs": [],
   "source": [
    "a=[2,4,6,8,9]"
   ]
  },
  {
   "cell_type": "code",
   "execution_count": 247,
   "metadata": {},
   "outputs": [],
   "source": [
    "def binary_search(list_1,num):\n",
    "    low = 0\n",
    "    high = len(list_1) - 1\n",
    "    while high >= low:\n",
    "        mid = int((low + high)/2)\n",
    "        if num == list_1[mid]:\n",
    "            return mid\n",
    "        elif num < list_1[mid]:\n",
    "            high = mid -1\n",
    "        else:\n",
    "            low = mid +1\n",
    "    print('No such number')\n",
    "    return None"
   ]
  },
  {
   "cell_type": "code",
   "execution_count": 250,
   "metadata": {},
   "outputs": [
    {
     "data": {
      "text/plain": [
       "2"
      ]
     },
     "execution_count": 250,
     "metadata": {},
     "output_type": "execute_result"
    }
   ],
   "source": [
    "binary_search(a,6)"
   ]
  },
  {
   "cell_type": "markdown",
   "metadata": {},
   "source": [
    "#### 6.给出一个 32 位的有符号整数，你需要将这个整数中每位上的数字进行反转。 \n",
    "https://leetcode-cn.com/problems/reverse-integer/"
   ]
  },
  {
   "cell_type": "code",
   "execution_count": 295,
   "metadata": {},
   "outputs": [],
   "source": [
    "def reve(num):\n",
    "    if num ==0:\n",
    "        return 0\n",
    "    if num<0:\n",
    "        add_nega = True\n",
    "    else:\n",
    "        add_nega = False\n",
    "    num = str(num)\n",
    "    num = num[::-1].rstrip('-').lstrip('0')\n",
    "    if add_nega:\n",
    "        num = '-' + num\n",
    "    if -2**31<int(num)<2**31-1:\n",
    "        return int(num)\n",
    "    return 0"
   ]
  },
  {
   "cell_type": "code",
   "execution_count": 298,
   "metadata": {},
   "outputs": [
    {
     "data": {
      "text/plain": [
       "21"
      ]
     },
     "execution_count": 298,
     "metadata": {},
     "output_type": "execute_result"
    }
   ],
   "source": [
    "reve(120)"
   ]
  },
  {
   "cell_type": "markdown",
   "metadata": {},
   "source": [
    "#### 7. https://leetcode-cn.com/problems/palindrome-number/\n",
    "(不用str)"
   ]
  },
  {
   "cell_type": "code",
   "execution_count": 313,
   "metadata": {},
   "outputs": [],
   "source": [
    "def is_reve(num):\n",
    "    if num<0 or (num % 10 ==0 and num != 0):\n",
    "        return False\n",
    "    rev = 0\n",
    "    while num > rev:\n",
    "        rev = rev * 10 + num % 10\n",
    "        num = num //10\n",
    "    return (rev == num) or (rev//10 == num)"
   ]
  },
  {
   "cell_type": "code",
   "execution_count": 315,
   "metadata": {
    "scrolled": true
   },
   "outputs": [
    {
     "data": {
      "text/plain": [
       "True"
      ]
     },
     "execution_count": 315,
     "metadata": {},
     "output_type": "execute_result"
    }
   ],
   "source": [
    "is_reve(12221)"
   ]
  },
  {
   "cell_type": "markdown",
   "metadata": {},
   "source": [
    "#### 8. 给定一个排序数组和一个目标值，在数组中找到目标值，并返回其索引。如果目标值不存在于数组中，返回它将会被按顺序插入的位置。"
   ]
  },
  {
   "cell_type": "code",
   "execution_count": 12,
   "metadata": {},
   "outputs": [],
   "source": [
    "def binary_insert(list1,num):\n",
    "    l = 0\n",
    "    h = len(list1)-1\n",
    "    while h>=l:\n",
    "        mid = int((l+h)/2)\n",
    "        if list1[mid] == num:\n",
    "            return mid\n",
    "        elif l==h:\n",
    "            break\n",
    "        elif list1[mid]>num:\n",
    "            h = mid - 1\n",
    "        else:\n",
    "            l = mid + 1\n",
    "    if list1[mid] > num:\n",
    "        return mid\n",
    "    else:\n",
    "        return mid+1\n",
    "    "
   ]
  },
  {
   "cell_type": "code",
   "execution_count": 15,
   "metadata": {},
   "outputs": [
    {
     "data": {
      "text/plain": [
       "2"
      ]
     },
     "execution_count": 15,
     "metadata": {},
     "output_type": "execute_result"
    }
   ],
   "source": [
    "binary_insert([1,3,5,6],3.7)"
   ]
  },
  {
   "cell_type": "code",
   "execution_count": 22,
   "metadata": {},
   "outputs": [
    {
     "data": {
      "text/plain": [
       "1"
      ]
     },
     "execution_count": 22,
     "metadata": {},
     "output_type": "execute_result"
    }
   ],
   "source": [
    "binary_insert([3],4)"
   ]
  },
  {
   "cell_type": "markdown",
   "metadata": {},
   "source": [
    "#### 9. 有一个list A,一个数字b。从list找两个数字，使得这两数字的和组接近b"
   ]
  },
  {
   "cell_type": "code",
   "execution_count": 48,
   "metadata": {},
   "outputs": [],
   "source": [
    "list1=[1,2,3,4,7,6,3]"
   ]
  },
  {
   "cell_type": "code",
   "execution_count": 49,
   "metadata": {},
   "outputs": [],
   "source": [
    "def find_close2(list1,num):\n",
    "    list1.sort()\n",
    "    diff_min = num\n",
    "    for i in range(len(list1)):\n",
    "        if i == 0:\n",
    "            continue\n",
    "        else:\n",
    "            list2 = list1[:i]\n",
    "            temp = binary_insert(list2,num - list1[i])\n",
    "            if temp == 0:\n",
    "                diff = abs(num - (list1[i] + list2[0]))\n",
    "                if diff < diff_min:\n",
    "                    x1 = list1[i]\n",
    "                    x2 = list2[0]\n",
    "                    diff_min = diff\n",
    "            elif temp ==i:\n",
    "                diff = abs(num - (list1[i] + list2[temp-1]))\n",
    "                if diff < diff_min:\n",
    "                    x1 = list1[i]\n",
    "                    x2 = list2[temp-1]\n",
    "                    diff_min = diff\n",
    "            else:\n",
    "                abs1 = abs(num - (list1[i] + list2[temp-1]))\n",
    "                abs2 = abs(num - (list1[i] + list2[temp]))\n",
    "                if abs1 >= abs2 and abs2 < diff_min:\n",
    "                    x1 = list1[i]\n",
    "                    x2 = list2[temp]\n",
    "                    diff_min = diff\n",
    "                if abs2 > abs1 and abs1 < diff_min:\n",
    "                    x1 = list1[i]\n",
    "                    x2 = list2[temp-1]\n",
    "                    diff_min = diff\n",
    "    return x1,x2"
   ]
  },
  {
   "cell_type": "code",
   "execution_count": 50,
   "metadata": {},
   "outputs": [
    {
     "data": {
      "text/plain": [
       "(7, 6)"
      ]
     },
     "execution_count": 50,
     "metadata": {},
     "output_type": "execute_result"
    }
   ],
   "source": [
    "find_close2(list1,14.5)"
   ]
  },
  {
   "cell_type": "markdown",
   "metadata": {},
   "source": [
    "#### 10. quick sort"
   ]
  },
  {
   "cell_type": "code",
   "execution_count": 5,
   "metadata": {},
   "outputs": [],
   "source": [
    "# def quick_sort(nums):\n",
    "#     if len(nums)>1:\n",
    "#         pivot = nums[0]\n",
    "#         left, right= [],[]\n",
    "#         nums.remove(pivot)\n",
    "#         for num in nums:\n",
    "#             if num >= pivot:\n",
    "#                 right.append(num)\n",
    "#             else:\n",
    "#                 left.append(num)\n",
    "#         return quick_sort(left) + [pivot] + quick_sort(right)\n",
    "#     else:\n",
    "#         return nums"
   ]
  },
  {
   "cell_type": "code",
   "execution_count": 5,
   "metadata": {},
   "outputs": [],
   "source": [
    "def quick_sort(nums, l, r):\n",
    "    if l >= r:\n",
    "        return\n",
    "    i = l\n",
    "    j = r\n",
    "    pivot = nums[i]\n",
    "    while r>l:\n",
    "        while (nums[r] > pivot and r > l):\n",
    "            r -=1\n",
    "        nums[l] = nums[r]\n",
    "        while (r>l and nums[l] <= pivot):\n",
    "            l +=1\n",
    "        nums[r] = nums[l]\n",
    "    nums[r] = pivot\n",
    "    quick_sort(nums,i,r-1)\n",
    "    quick_sort(nums,r+1,j)"
   ]
  },
  {
   "cell_type": "code",
   "execution_count": null,
   "metadata": {},
   "outputs": [],
   "source": [
    "def quick_sort(nums,l,r):\n",
    "    if l>=r:\n",
    "        return\n",
    "    i = l\n",
    "    j = r\n",
    "    pivot = nums[l]\n",
    "    while r>l:\n",
    "        while (nums[r]> =pivot and r>l):\n",
    "            r -=1\n",
    "        nums[l] = nums[r]\n",
    "        while(nums[l]<pivot and r>l):\n",
    "            l+=1\n",
    "        nums[r] = nums[l]\n",
    "    nums[r] = pivot\n",
    "    quick_sort(nums,i,r-1)\n",
    "    quick_sort(nums,r+1,j)"
   ]
  },
  {
   "cell_type": "code",
   "execution_count": 344,
   "metadata": {},
   "outputs": [],
   "source": [
    "a = [10,3,412,321,5235,2,20,32131]"
   ]
  },
  {
   "cell_type": "code",
   "execution_count": 345,
   "metadata": {},
   "outputs": [],
   "source": [
    "quick_sort(a,0,len(a)-1)"
   ]
  },
  {
   "cell_type": "code",
   "execution_count": 346,
   "metadata": {},
   "outputs": [
    {
     "data": {
      "text/plain": [
       "[2, 3, 10, 20, 321, 412, 5235, 32131]"
      ]
     },
     "execution_count": 346,
     "metadata": {},
     "output_type": "execute_result"
    }
   ],
   "source": [
    "a"
   ]
  },
  {
   "cell_type": "code",
   "execution_count": 121,
   "metadata": {},
   "outputs": [],
   "source": [
    "def quick_sort(nums,l,r):\n",
    "    if l >= r:\n",
    "        return\n",
    "    i = l\n",
    "    j = r\n",
    "    pivot = nums[i]\n",
    "    while r>l:\n",
    "        while (r>l and nums[r]>pivot):\n",
    "            r -=1\n",
    "        nums[l] = nums[r]\n",
    "        while (r > l and nums[l]<pivot):\n",
    "            l +=1\n",
    "        nums[r] = nums[l]\n",
    "    nums[r] = pivot\n",
    "    quick_sort(nums,i,r-1)\n",
    "    quick_sort(nums,r+1,j)"
   ]
  },
  {
   "cell_type": "markdown",
   "metadata": {},
   "source": [
    "#### 11.快速找出一个数组中的最大数、第二大数"
   ]
  },
  {
   "cell_type": "code",
   "execution_count": 1,
   "metadata": {},
   "outputs": [],
   "source": [
    "def largest12(nums):\n",
    "    if nums[0] > nums[1]:\n",
    "        one_two = nums[:2]\n",
    "    else:\n",
    "        one_two = [nums[1],nums[0]]\n",
    "    for i in range(2,len(nums)-1):\n",
    "        if nums[i]> one_two[0]:\n",
    "            one_two[1] = one_two[0]\n",
    "            one_two[0] = nums[i]\n",
    "        elif nums[i] > one_two[1]:\n",
    "            one_two[1] = nums[i]\n",
    "    return one_two"
   ]
  },
  {
   "cell_type": "code",
   "execution_count": 2,
   "metadata": {},
   "outputs": [
    {
     "data": {
      "text/plain": [
       "[132, 51]"
      ]
     },
     "execution_count": 2,
     "metadata": {},
     "output_type": "execute_result"
    }
   ],
   "source": [
    "largest12([12,3,4,51,132,3])"
   ]
  },
  {
   "cell_type": "markdown",
   "metadata": {},
   "source": [
    "#### 12.一个有序的连续数组有两个断点，找到这两个断点，例如[1,2,4,5,7,8,9]中两个断点是3和6。"
   ]
  },
  {
   "cell_type": "code",
   "execution_count": 12,
   "metadata": {},
   "outputs": [],
   "source": [
    "def find_break(nums):\n",
    "    set1 = set(range(nums[0],nums[len(nums)-1]))\n",
    "    set2 = set(nums)\n",
    "    return(set1.difference(set2))"
   ]
  },
  {
   "cell_type": "code",
   "execution_count": 13,
   "metadata": {},
   "outputs": [
    {
     "data": {
      "text/plain": [
       "{3, 6}"
      ]
     },
     "execution_count": 13,
     "metadata": {},
     "output_type": "execute_result"
    }
   ],
   "source": [
    "find_break([1,2,4,5,7,8,9])"
   ]
  },
  {
   "cell_type": "code",
   "execution_count": 355,
   "metadata": {},
   "outputs": [],
   "source": [
    "a=[1,1,3,4,5,7,10]"
   ]
  },
  {
   "cell_type": "code",
   "execution_count": 356,
   "metadata": {},
   "outputs": [
    {
     "name": "stdout",
     "output_type": "stream",
     "text": [
      "[2]\n",
      "[6]\n",
      "[8, 9]\n"
     ]
    }
   ],
   "source": [
    "for i in range(len(a)-1):\n",
    "    if (a[i+1] == a[i]+1) or a[i+1] == a[i]:\n",
    "        pass\n",
    "    else:\n",
    "        print(list(range(a[i]+1,a[i+1])))"
   ]
  },
  {
   "cell_type": "markdown",
   "metadata": {},
   "source": [
    "#### 13.归并排序"
   ]
  },
  {
   "cell_type": "code",
   "execution_count": 33,
   "metadata": {},
   "outputs": [],
   "source": [
    "def merge(a,b):\n",
    "    c = []\n",
    "    i = 0\n",
    "    j = 0\n",
    "    while i < len(a) and j < len(b):\n",
    "        if a[i]<b[j]:\n",
    "            c.append(a[i])\n",
    "            i +=1\n",
    "        else:\n",
    "            c.append(b[j])\n",
    "            j +=1\n",
    "    if i == len(a):\n",
    "        c.extend(b[j:])\n",
    "    if j ==len(b):\n",
    "        c.extend(a[i:])\n",
    "    return c\n",
    "\n",
    "def merge_sort(nums):\n",
    "    if len(nums)<=1:\n",
    "        return nums\n",
    "    else:\n",
    "        mid = len(nums) //2\n",
    "        left = merge_sort(nums[:mid])\n",
    "        right = merge_sort(nums[mid:])\n",
    "        return merge(left,right)"
   ]
  },
  {
   "cell_type": "code",
   "execution_count": 342,
   "metadata": {},
   "outputs": [
    {
     "data": {
      "text/plain": [
       "[1, 2, 2, 3, 3.5, 5]"
      ]
     },
     "execution_count": 342,
     "metadata": {},
     "output_type": "execute_result"
    }
   ],
   "source": [
    "merge_sort([2,3,1,5,3.5,2])"
   ]
  },
  {
   "cell_type": "code",
   "execution_count": 329,
   "metadata": {},
   "outputs": [],
   "source": [
    "def merge(a,b):\n",
    "    c=[]\n",
    "    i = 0\n",
    "    j = 0\n",
    "    while i < len(a) and j<len(b):\n",
    "        if a[i] < b[j]:\n",
    "            c.append(a[i])\n",
    "            i +=1\n",
    "        else:\n",
    "            c.append(b[j])\n",
    "            j +=1\n",
    "    if i==len(a):\n",
    "        c.extend(b[j:])\n",
    "    if j ==len(b):\n",
    "        c.extend(a[i:])\n",
    "    return c\n",
    "\n",
    "def merge_sort(nums):\n",
    "    if len(nums)<=1:\n",
    "        return nums\n",
    "    else:\n",
    "        mid = len(nums)//2\n",
    "        left = merge_sort(nums[:mid])\n",
    "        right = merge_sort(nums[mid:])\n",
    "        return merge(left,right)"
   ]
  },
  {
   "cell_type": "code",
   "execution_count": 331,
   "metadata": {},
   "outputs": [
    {
     "data": {
      "text/plain": [
       "[1, 3, 4, 5]"
      ]
     },
     "execution_count": 331,
     "metadata": {},
     "output_type": "execute_result"
    }
   ],
   "source": [
    "merge_sort([3,4,5,1])"
   ]
  },
  {
   "cell_type": "markdown",
   "metadata": {},
   "source": [
    "#### 14. 矩阵写法\n",
    "\n",
    "3 4 5\n",
    "\n",
    "2 1 6\n",
    "\n",
    "9 8 7"
   ]
  },
  {
   "cell_type": "code",
   "execution_count": 357,
   "metadata": {},
   "outputs": [],
   "source": [
    "import numpy as np"
   ]
  },
  {
   "cell_type": "code",
   "execution_count": 4,
   "metadata": {},
   "outputs": [],
   "source": [
    "def foo(n):\n",
    "    mat =np.zeros((n,n))\n",
    "    i=n//2\n",
    "    j=n//2\n",
    "    mat[i,j]=1\n",
    "    for a in range(1,n+1):\n",
    "        if a%2 ==1:\n",
    "            if a==n:\n",
    "                for t in range(n-1):\n",
    "                    j-=1\n",
    "                    mat[i,j] = mat[i,j+1]+1\n",
    "                break\n",
    "            for t in range(a):\n",
    "                j -=1\n",
    "                mat[i,j] = mat[i,j+1]+1\n",
    "            for t in range(a):\n",
    "                i-=1\n",
    "                mat[i,j] = mat[i+1,j]+1\n",
    "        if a%2 ==0:\n",
    "            if a==n:\n",
    "                for t in range(n-1):\n",
    "                    j+=1\n",
    "                    mat[i,j]=mat[i,j-1]+1\n",
    "                break\n",
    "            for t in range(a):\n",
    "                j+=1\n",
    "                mat[i,j] = mat[i,j-1]+1\n",
    "            for t in range(a):\n",
    "                i+=1\n",
    "                mat[i,j] = mat[i-1,j]+1\n",
    "    return mat"
   ]
  },
  {
   "cell_type": "code",
   "execution_count": 358,
   "metadata": {},
   "outputs": [],
   "source": [
    "def foo(n):\n",
    "    mat = np.zeros((n,n))\n",
    "    i = n//2\n",
    "    j = n//2\n",
    "    mat[i,j] = 1\n",
    "    for step in range(1,n):\n",
    "        if step%2==1:\n",
    "            for s in range(step):\n",
    "                j-=1\n",
    "                mat[i,j] = mat[i,j+1]+1\n",
    "            for s in range(step):\n",
    "                i-=1\n",
    "                mat[i,j]=mat[i+1,j]+1\n",
    "            if step ==n-1:\n",
    "                for s in range(step):\n",
    "                    j +=1\n",
    "                    mat[i,j] = mat[i,j-1]+1\n",
    "        else:\n",
    "            for s in range(step):\n",
    "                j+=1\n",
    "                mat[i,j] = mat[i,j-1]+1\n",
    "            for s in range(step):\n",
    "                i+=1\n",
    "                mat[i,j] = mat[i-1,j]+1\n",
    "            if step == n-1:\n",
    "                for s in range(step):\n",
    "                    j-=1\n",
    "                    mat[i,j] = mat[i,j+1]+1\n",
    "    return mat\n",
    "            \n",
    "            "
   ]
  },
  {
   "cell_type": "code",
   "execution_count": 5,
   "metadata": {},
   "outputs": [
    {
     "data": {
      "text/plain": [
       "array([[31., 32., 33., 34., 35., 36.],\n",
       "       [30., 13., 14., 15., 16., 17.],\n",
       "       [29., 12.,  3.,  4.,  5., 18.],\n",
       "       [28., 11.,  2.,  1.,  6., 19.],\n",
       "       [27., 10.,  9.,  8.,  7., 20.],\n",
       "       [26., 25., 24., 23., 22., 21.]])"
      ]
     },
     "execution_count": 5,
     "metadata": {},
     "output_type": "execute_result"
    }
   ],
   "source": [
    "foo(6)"
   ]
  },
  {
   "cell_type": "markdown",
   "metadata": {},
   "source": [
    "#### 15. x 的平方根\n",
    "\n",
    "https://leetcode-cn.com/problems/sqrtx/comments/"
   ]
  },
  {
   "cell_type": "code",
   "execution_count": 55,
   "metadata": {},
   "outputs": [],
   "source": [
    "def foo(num):\n",
    "    if num <1:\n",
    "        return 0\n",
    "    x=num\n",
    "    temp = x + 2\n",
    "    while (abs(temp - x) >=1):\n",
    "        temp = x\n",
    "        x = x/2 + num/(2*x)\n",
    "        #print(x)\n",
    "    while not (int(x)**2 <= num and num <= int(x+1)**2):\n",
    "        x = x/2 + num/(2*x)\n",
    "        #print(x,'second')\n",
    "    return int(x)\n",
    "        "
   ]
  },
  {
   "cell_type": "code",
   "execution_count": 56,
   "metadata": {},
   "outputs": [
    {
     "data": {
      "text/plain": [
       "3333"
      ]
     },
     "execution_count": 56,
     "metadata": {},
     "output_type": "execute_result"
    }
   ],
   "source": [
    "foo(11111111)"
   ]
  },
  {
   "cell_type": "code",
   "execution_count": 46,
   "metadata": {},
   "outputs": [],
   "source": [
    "def mySqrt(x):\n",
    "    \"\"\"\n",
    "    :type x: int\n",
    "    :rtype: int\n",
    "    \"\"\"\n",
    "    if x <= 1:\n",
    "        return x\n",
    "    r = x\n",
    "    while r > x / r:\n",
    "        r = (r + x / r) // 2\n",
    "    return int(r)"
   ]
  },
  {
   "cell_type": "code",
   "execution_count": 47,
   "metadata": {},
   "outputs": [
    {
     "data": {
      "text/plain": [
       "3"
      ]
     },
     "execution_count": 47,
     "metadata": {},
     "output_type": "execute_result"
    }
   ],
   "source": [
    "mySqrt(11)"
   ]
  },
  {
   "cell_type": "markdown",
   "metadata": {},
   "source": [
    "#### 16. 旋转数组的最小数字\n",
    "\n",
    "https://www.nowcoder.com/practice/9f3231a991af4f55b95579b44b7a01ba?tpId=13&tqId=11159&tPage=1&rp=1&ru=/ta/coding-interviews&qru=/ta/coding-interviews/question-ranking"
   ]
  },
  {
   "cell_type": "code",
   "execution_count": 374,
   "metadata": {},
   "outputs": [],
   "source": [
    "def foo(nums):\n",
    "    if len(nums)==0:\n",
    "        return 0\n",
    "    l = 0\n",
    "    u = len(nums)-1\n",
    "    while u >(l+1):\n",
    "        mid = (l+u)//2\n",
    "        if nums[mid] > nums[l]:\n",
    "            l = mid\n",
    "        if nums[mid] < nums[l]:\n",
    "            u = mid\n",
    "    return(nums[u])"
   ]
  },
  {
   "cell_type": "code",
   "execution_count": 375,
   "metadata": {},
   "outputs": [
    {
     "data": {
      "text/plain": [
       "1"
      ]
     },
     "execution_count": 375,
     "metadata": {},
     "output_type": "execute_result"
    }
   ],
   "source": [
    "foo([2,3,4,5,1])"
   ]
  },
  {
   "cell_type": "code",
   "execution_count": 377,
   "metadata": {},
   "outputs": [
    {
     "data": {
      "text/plain": [
       "1"
      ]
     },
     "execution_count": 377,
     "metadata": {},
     "output_type": "execute_result"
    }
   ],
   "source": [
    "foo([3,4,5,1,2])"
   ]
  },
  {
   "cell_type": "code",
   "execution_count": 376,
   "metadata": {},
   "outputs": [
    {
     "data": {
      "text/plain": [
       "1"
      ]
     },
     "execution_count": 376,
     "metadata": {},
     "output_type": "execute_result"
    }
   ],
   "source": [
    "foo([3,4,5,6,1,2])"
   ]
  },
  {
   "cell_type": "markdown",
   "metadata": {},
   "source": [
    "#### 17. https://leetcode-cn.com/problems/search-in-rotated-sorted-array/"
   ]
  },
  {
   "cell_type": "code",
   "execution_count": 106,
   "metadata": {},
   "outputs": [],
   "source": [
    "class Solution:\n",
    "    def search(self, nums, target):\n",
    "        temp = self._foo(nums)\n",
    "        list1 = nums[temp:]\n",
    "        list2 = nums[:temp+1]\n",
    "        index1 = self._binary(list1,target)\n",
    "        index2 = self._binary(list2,target)\n",
    "        if index1 != -1:\n",
    "            return index1+temp\n",
    "        else:\n",
    "            if index2 == -1:\n",
    "                return -1\n",
    "            else:\n",
    "                return index2 \n",
    "        \n",
    "        \n",
    "    def _foo(self,nums):\n",
    "        l = 0\n",
    "        u = len(nums)-1\n",
    "        while u >(l+1):\n",
    "            mid = (l+u)//2\n",
    "            if nums[mid] > nums[l]:\n",
    "                l = mid\n",
    "            if nums[mid] < nums[l]:\n",
    "                u = mid\n",
    "        return(u)\n",
    "    def _binary(self,nums, target):\n",
    "        i = 0\n",
    "        j = len(nums)-1\n",
    "        while j>=i:\n",
    "            mid = (i+j)//2\n",
    "            if nums[mid] == target:\n",
    "                return(mid)\n",
    "            elif nums[mid]>target:\n",
    "                j = mid-1\n",
    "            else:\n",
    "                i = mid +1\n",
    "        return -1\n",
    "            \n",
    "        "
   ]
  },
  {
   "cell_type": "code",
   "execution_count": 107,
   "metadata": {},
   "outputs": [],
   "source": [
    "a = Solution()"
   ]
  },
  {
   "cell_type": "code",
   "execution_count": 108,
   "metadata": {},
   "outputs": [
    {
     "data": {
      "text/plain": [
       "4"
      ]
     },
     "execution_count": 108,
     "metadata": {},
     "output_type": "execute_result"
    }
   ],
   "source": [
    "a.search([4,5,6,7,0,1,2],0)"
   ]
  },
  {
   "cell_type": "code",
   "execution_count": 110,
   "metadata": {},
   "outputs": [],
   "source": [
    "class Solution:\n",
    "    def search(self, nums, target):\n",
    "        \"\"\"\n",
    "        :type nums: List[int]\n",
    "        :type target: int\n",
    "        :rtype: int\n",
    "        \"\"\"\n",
    "        if not nums:\n",
    "            return -1\n",
    "\n",
    "        low, high = 0, len(nums) - 1\n",
    "\n",
    "        while low <= high:\n",
    "            mid = (low + high) // 2\n",
    "            if target == nums[mid]:\n",
    "                return mid\n",
    "\n",
    "            if nums[low] <= nums[mid]:\n",
    "                if nums[low] <= target <= nums[mid]:\n",
    "                    high = mid\n",
    "                else:\n",
    "                    low = mid + 1\n",
    "            else:\n",
    "                if nums[mid] <= target <= nums[high]:\n",
    "                    low = mid\n",
    "                else:\n",
    "                    high = mid - 1\n",
    "\n",
    "        return -1\n",
    "# --------------------- \n",
    "# 作者：coordinate_blog \n",
    "# 来源：CSDN \n",
    "# 原文：https://blog.csdn.net/qq_17550379/article/details/83213836 \n",
    "# 版权声明：本文为博主原创文章，转载请附上博文链接！"
   ]
  },
  {
   "cell_type": "markdown",
   "metadata": {},
   "source": [
    "#### 18.顺时针打印矩阵\n",
    "\n",
    "https://www.nowcoder.com/practice/9b4c81a02cd34f76be2659fa0d54342a?tpId=13&tqId=11172&tPage=1&rp=1&ru=/ta/coding-interviews&qru=/ta/coding-interviews/question-ranking"
   ]
  },
  {
   "cell_type": "code",
   "execution_count": 125,
   "metadata": {},
   "outputs": [],
   "source": [
    "mat = np.array(range(1,17)).reshape(4,4)\n",
    "def foo(mat):\n",
    "    n = mat.shape[0]\n",
    "    i = 0\n",
    "    j = 0\n",
    "    print(mat[i,j], end= ' ')\n",
    "    for step in range(n-1,0,-1):\n",
    "        if step ==n-1:\n",
    "            for s in range(step):\n",
    "                j +=1\n",
    "                print(mat[i,j], end= ' ')\n",
    "            for s in range(step):\n",
    "                i+=1\n",
    "                print(mat[i,j], end= ' ')\n",
    "            for s in range(step):\n",
    "                j-=1\n",
    "                print(mat[i,j], end= ' ')\n",
    "        else:\n",
    "            if (n-1 - step)%2==1:\n",
    "                for s in range(step):\n",
    "                    i -=1\n",
    "                    print(mat[i,j], end= ' ')\n",
    "                for s in range(step):\n",
    "                    j +=1\n",
    "                    print(mat[i,j], end= ' ')\n",
    "            else:\n",
    "                for s in range(step):\n",
    "                    i+=1\n",
    "                    print(mat[i,j], end= ' ')\n",
    "                for s in range(step):\n",
    "                    j-=1\n",
    "                    print(mat[i,j], end= ' ')\n",
    "                \n",
    "            "
   ]
  },
  {
   "cell_type": "code",
   "execution_count": 124,
   "metadata": {},
   "outputs": [
    {
     "name": "stdout",
     "output_type": "stream",
     "text": [
      "1 2 3 4 8 12 16 15 14 13 9 5 6 7 11 10 "
     ]
    }
   ],
   "source": [
    "foo(mat)"
   ]
  },
  {
   "cell_type": "code",
   "execution_count": 127,
   "metadata": {},
   "outputs": [],
   "source": [
    "mat = np.array(range(1,5)).reshape(2,2)"
   ]
  },
  {
   "cell_type": "code",
   "execution_count": 128,
   "metadata": {},
   "outputs": [
    {
     "name": "stdout",
     "output_type": "stream",
     "text": [
      "1 2 4 3 "
     ]
    }
   ],
   "source": [
    "foo(mat)"
   ]
  },
  {
   "cell_type": "markdown",
   "metadata": {},
   "source": [
    "#### 19. 三数之和\n",
    "\n",
    "https://leetcode-cn.com/problems/3sum/comments/"
   ]
  },
  {
   "cell_type": "code",
   "execution_count": 169,
   "metadata": {},
   "outputs": [],
   "source": [
    "class Solution:\n",
    "    def threeSum(self, nums):\n",
    "        c = []\n",
    "        nums.sort()\n",
    "        for i in range(0,len(nums)-2):\n",
    "            if i==0 or nums[i]>nums[i-1]:\n",
    "                l = i+1\n",
    "                r = len(nums)-1\n",
    "                while r>l:\n",
    "                    if nums[i] + nums[l] + nums[r] == 0:\n",
    "                        c.append([nums[i],nums[l],nums[r]])\n",
    "                        l+=1\n",
    "                        r-=1\n",
    "                        while r>l and nums[r] ==nums[r+1]:\n",
    "                            r-=1\n",
    "                        while r>l and nums[l] == nums[l-1]:\n",
    "                            l +=1\n",
    "                    elif nums[i] + nums[l] + nums[r] <0:\n",
    "                        l +=1\n",
    "                    else:\n",
    "                        r -=1\n",
    "        return c\n",
    "            "
   ]
  },
  {
   "cell_type": "code",
   "execution_count": 170,
   "metadata": {},
   "outputs": [],
   "source": [
    "a=Solution()"
   ]
  },
  {
   "cell_type": "code",
   "execution_count": 171,
   "metadata": {},
   "outputs": [
    {
     "data": {
      "text/plain": [
       "[[-1, -1, 2], [-1, 0, 1]]"
      ]
     },
     "execution_count": 171,
     "metadata": {},
     "output_type": "execute_result"
    }
   ],
   "source": [
    "a.threeSum([-1, 0, 1, 2, -1, -4])"
   ]
  },
  {
   "cell_type": "markdown",
   "metadata": {},
   "source": [
    "#### 20.乘积小于K的子数组\n",
    "\n",
    "https://leetcode-cn.com/problems/subarray-product-less-than-k/"
   ]
  },
  {
   "cell_type": "code",
   "execution_count": 183,
   "metadata": {},
   "outputs": [],
   "source": [
    "class Solution:\n",
    "    def numSubarrayProductLessThanK(self, nums, k):\n",
    "        n=0\n",
    "        i=0\n",
    "        sav = 1\n",
    "        for j in range(len(nums)):\n",
    "            sav *= nums[j]\n",
    "            while sav >= k and i<=j:\n",
    "                sav /= nums[i]\n",
    "                i +=1\n",
    "            n = n + j-i +1\n",
    "        return n"
   ]
  },
  {
   "cell_type": "code",
   "execution_count": 184,
   "metadata": {},
   "outputs": [],
   "source": [
    "a = Solution()"
   ]
  },
  {
   "cell_type": "code",
   "execution_count": 185,
   "metadata": {},
   "outputs": [
    {
     "data": {
      "text/plain": [
       "0"
      ]
     },
     "execution_count": 185,
     "metadata": {},
     "output_type": "execute_result"
    }
   ],
   "source": [
    "a.numSubarrayProductLessThanK([1,2,3],0)"
   ]
  },
  {
   "cell_type": "markdown",
   "metadata": {},
   "source": [
    "#### 21.最小面积矩形\n",
    "\n",
    "https://leetcode-cn.com/problems/minimum-area-rectangle/"
   ]
  },
  {
   "cell_type": "code",
   "execution_count": 243,
   "metadata": {},
   "outputs": [],
   "source": [
    "#####没有平行xy的限制\n",
    "class Solution:\n",
    "    def minAreaRect(self, points):\n",
    "        mid_area = {}\n",
    "        area = 0\n",
    "        for i in range(len(points)):\n",
    "            for j in range(i+1,len(points)):\n",
    "                mid = ((points[i][0]+points[j][0])/2,(points[i][1]+points[j][1])/2)\n",
    "                dis = ((points[i][0]-points[j][0])**2 + (points[i][1]-points[j][1])**2)**0.5\n",
    "                if (mid,dis) not in mid_area:\n",
    "                    mid_area[(mid,dis)] = (i,j)\n",
    "                else:\n",
    "                    point1 = points[mid_area[(mid,dis)][0]]\n",
    "                    point2 = points[mid_area[(mid,dis)][1]]\n",
    "                    point3 = points[i]\n",
    "                    length = ((point1[0] - point3[0])**2 + (point1[1] - point3[1])**2)**0.5\n",
    "                    wid = ((point2[0] - point3[0])**2 + (point2[1] - point3[1])**2)**0.5\n",
    "                    if not area:\n",
    "                        area = length * wid\n",
    "                    else:\n",
    "                        if length*wid < area:\n",
    "                            area = length*wid\n",
    "        return int(area)\n",
    "            "
   ]
  },
  {
   "cell_type": "code",
   "execution_count": 244,
   "metadata": {},
   "outputs": [],
   "source": [
    "a = Solution()"
   ]
  },
  {
   "cell_type": "code",
   "execution_count": 245,
   "metadata": {},
   "outputs": [
    {
     "data": {
      "text/plain": [
       "4"
      ]
     },
     "execution_count": 245,
     "metadata": {},
     "output_type": "execute_result"
    }
   ],
   "source": [
    "a.minAreaRect([[1,1],[1,3],[3,1],[3,3],[2,2]])"
   ]
  },
  {
   "cell_type": "code",
   "execution_count": 246,
   "metadata": {},
   "outputs": [
    {
     "data": {
      "text/plain": [
       "2"
      ]
     },
     "execution_count": 246,
     "metadata": {},
     "output_type": "execute_result"
    }
   ],
   "source": [
    "a.minAreaRect([[1,1],[1,3],[3,1],[3,3],[4,1],[4,3]])"
   ]
  },
  {
   "cell_type": "code",
   "execution_count": 247,
   "metadata": {},
   "outputs": [
    {
     "data": {
      "text/plain": [
       "5"
      ]
     },
     "execution_count": 247,
     "metadata": {},
     "output_type": "execute_result"
    }
   ],
   "source": [
    "a.minAreaRect([[1,2],[1,3],[3,3],[4,4],[2,1],[1,4],[2,2],[1,0],[0,2]])"
   ]
  },
  {
   "cell_type": "code",
   "execution_count": 267,
   "metadata": {},
   "outputs": [],
   "source": [
    "####有平行xy的限制\n",
    "class Solution:\n",
    "    def minAreaRect(self, points):\n",
    "        area = 0\n",
    "        mem = set()\n",
    "        for x1,y1 in points:\n",
    "            for x2,y2 in mem:\n",
    "                if (x2,y1) in mem and (x1,y2) in mem:\n",
    "                    if not area:\n",
    "                        area = abs(x2-x1)*abs(y2-y1)\n",
    "                    else:\n",
    "                        if abs(x2-x1)*abs(y2-y1) < area:\n",
    "                            area = abs(x2-x1)*abs(y2-y1)\n",
    "            mem.add((x1,y1))\n",
    "        return area\n",
    "                    "
   ]
  },
  {
   "cell_type": "code",
   "execution_count": 268,
   "metadata": {},
   "outputs": [],
   "source": [
    "a=Solution()\n"
   ]
  },
  {
   "cell_type": "code",
   "execution_count": 269,
   "metadata": {},
   "outputs": [
    {
     "data": {
      "text/plain": [
       "0"
      ]
     },
     "execution_count": 269,
     "metadata": {},
     "output_type": "execute_result"
    }
   ],
   "source": [
    "a.minAreaRect([[1,2],[1,3],[3,3],[4,4],[2,1],[1,4],[2,2],[1,0],[0,2]])"
   ]
  },
  {
   "cell_type": "markdown",
   "metadata": {},
   "source": [
    "#### 22.给出一个区间的集合，请合并所有重叠的区间。\n",
    "\n",
    "https://leetcode-cn.com/problems/merge-intervals/"
   ]
  },
  {
   "cell_type": "code",
   "execution_count": 320,
   "metadata": {},
   "outputs": [],
   "source": [
    "a=[[1,2],[2,3],[1,4],[1,3],[5,10],[1,1.5]]"
   ]
  },
  {
   "cell_type": "code",
   "execution_count": 321,
   "metadata": {},
   "outputs": [],
   "source": [
    "a=sorted(a)"
   ]
  },
  {
   "cell_type": "code",
   "execution_count": 322,
   "metadata": {},
   "outputs": [
    {
     "data": {
      "text/plain": [
       "[[1, 1.5], [1, 2], [1, 3], [1, 4], [2, 3], [5, 10]]"
      ]
     },
     "execution_count": 322,
     "metadata": {},
     "output_type": "execute_result"
    }
   ],
   "source": [
    "a"
   ]
  },
  {
   "cell_type": "code",
   "execution_count": 323,
   "metadata": {},
   "outputs": [],
   "source": [
    "i=0\n",
    "while i < len(a)-1:\n",
    "    while a[i+1][0]<= a[i][1]:\n",
    "        a[i][1] = max(a[i][1],a[i+1][1])\n",
    "        a.pop(i+1)\n",
    "    i = i+1"
   ]
  },
  {
   "cell_type": "code",
   "execution_count": 324,
   "metadata": {},
   "outputs": [
    {
     "data": {
      "text/plain": [
       "[[1, 4], [5, 10]]"
      ]
     },
     "execution_count": 324,
     "metadata": {},
     "output_type": "execute_result"
    }
   ],
   "source": [
    "a"
   ]
  },
  {
   "cell_type": "code",
   "execution_count": 325,
   "metadata": {},
   "outputs": [],
   "source": [
    "class Solution:\n",
    "    def merge(self, intervals):\n",
    "        i= 0\n",
    "        while i < len(intervals)-1:\n",
    "            while intervals[i+1][0] <= intervals[i][1]:\n",
    "                intervals[i][1] = max(intervals[i][1],intervals[i+1][1])\n",
    "                intervals.pop(i+1)\n",
    "            i = i+1\n",
    "        return intervals\n",
    "        "
   ]
  },
  {
   "cell_type": "code",
   "execution_count": 326,
   "metadata": {},
   "outputs": [
    {
     "data": {
      "text/plain": [
       "[[1, 4], [5, 10]]"
      ]
     },
     "execution_count": 326,
     "metadata": {},
     "output_type": "execute_result"
    }
   ],
   "source": [
    "b= Solution()\n",
    "b.merge(a)"
   ]
  },
  {
   "cell_type": "markdown",
   "metadata": {},
   "source": [
    "#### 23.给定一个正整数数组，前部分非递减、后部分非递增，请返回排好序并去重后的结果。给定时间复杂度O(n)，空间复杂度O(1)"
   ]
  },
  {
   "cell_type": "code",
   "execution_count": 136,
   "metadata": {},
   "outputs": [],
   "source": [
    "def foo1(nums):\n",
    "    l = 0\n",
    "    u = len(nums)-1\n",
    "    temp = 0\n",
    "    while l<= u:\n",
    "        if nums[l] < nums[u]:\n",
    "            if temp < nums[l]:\n",
    "                print(nums[l], end = ' ')\n",
    "                temp = nums[l]\n",
    "            l +=1\n",
    "        else:\n",
    "            if temp < nums[u]:\n",
    "                print(nums[u],end = ' ')\n",
    "                temp = nums[u]\n",
    "            u -=1"
   ]
  },
  {
   "cell_type": "code",
   "execution_count": 137,
   "metadata": {},
   "outputs": [
    {
     "name": "stdout",
     "output_type": "stream",
     "text": [
      "1 3 4 5 "
     ]
    }
   ],
   "source": [
    "foo1([1,1,5,4,3,3])"
   ]
  },
  {
   "cell_type": "code",
   "execution_count": 133,
   "metadata": {},
   "outputs": [],
   "source": [
    "def foo(nums):\n",
    "    l = 0\n",
    "    u = len(nums)-1\n",
    "    temp = 0\n",
    "    while l<=u:\n",
    "        temp = min(nums[l],nums[u])\n",
    "        print(temp)\n",
    "        while nums[l] == temp and u>=l:\n",
    "            l +=1\n",
    "        while nums[u] == temp and u>=l:\n",
    "            u -= 1"
   ]
  },
  {
   "cell_type": "code",
   "execution_count": 135,
   "metadata": {},
   "outputs": [
    {
     "name": "stdout",
     "output_type": "stream",
     "text": [
      "1\n",
      "3\n",
      "4\n",
      "5\n"
     ]
    }
   ],
   "source": [
    "foo([1,1,5,4,3,3])"
   ]
  },
  {
   "cell_type": "markdown",
   "metadata": {},
   "source": [
    "#### 24.罗马数字转整数\n",
    "\n",
    "https://leetcode-cn.com/problems/roman-to-integer/"
   ]
  },
  {
   "cell_type": "code",
   "execution_count": 1,
   "metadata": {},
   "outputs": [],
   "source": [
    "cor = dict()"
   ]
  },
  {
   "cell_type": "code",
   "execution_count": 2,
   "metadata": {},
   "outputs": [],
   "source": [
    "cor['I']=1\n",
    "cor['V']=5\n",
    "cor['X']=10\n",
    "cor['L']=50\n",
    "cor['C']=100\n",
    "cor['D']=500\n",
    "cor['M']=1000\n",
    "cor['IV']=4\n",
    "cor['IX']=9\n",
    "cor['XL']=40\n",
    "cor['XC']=90\n",
    "cor['CD']=400\n",
    "cor['CM']=900"
   ]
  },
  {
   "cell_type": "code",
   "execution_count": 16,
   "metadata": {},
   "outputs": [],
   "source": [
    "class Solution:\n",
    "    def romanToInt(self, s):\n",
    "        i=0\n",
    "        ct = 0\n",
    "        while i<len(s):\n",
    "            if s[i:i+2] in ['IV','IX','XL','XC','CD','CM']:\n",
    "                ct = ct + cor[s[i:i+2]]\n",
    "                i +=2\n",
    "            else:\n",
    "                ct = ct + cor[s[i]]\n",
    "                i+=1\n",
    "        return(ct)"
   ]
  },
  {
   "cell_type": "code",
   "execution_count": 17,
   "metadata": {},
   "outputs": [],
   "source": [
    "a=Solution()"
   ]
  },
  {
   "cell_type": "code",
   "execution_count": 18,
   "metadata": {},
   "outputs": [
    {
     "data": {
      "text/plain": [
       "3"
      ]
     },
     "execution_count": 18,
     "metadata": {},
     "output_type": "execute_result"
    }
   ],
   "source": [
    "a.romanToInt('III')"
   ]
  },
  {
   "cell_type": "code",
   "execution_count": 19,
   "metadata": {},
   "outputs": [],
   "source": [
    "cor = dict()\n",
    "cor['I']=1\n",
    "cor['V']=5\n",
    "cor['X']=10\n",
    "cor['L']=50\n",
    "cor['C']=100\n",
    "cor['D']=500\n",
    "cor['M']=1000"
   ]
  },
  {
   "cell_type": "code",
   "execution_count": 27,
   "metadata": {},
   "outputs": [],
   "source": [
    "class Solution:\n",
    "    def romanToInt(self, s):\n",
    "        i = 0\n",
    "        ct = 0\n",
    "        while i < len(s):\n",
    "            if i<len(s)-1 and cor[s[i]] < cor[s[i+1]]:\n",
    "                ct = ct + cor[s[i+1]] - cor[s[i]]\n",
    "                i +=2\n",
    "            else:\n",
    "                ct = ct + cor[s[i]]\n",
    "                i +=1\n",
    "        return(ct)"
   ]
  },
  {
   "cell_type": "code",
   "execution_count": 28,
   "metadata": {},
   "outputs": [],
   "source": [
    "a=Solution()"
   ]
  },
  {
   "cell_type": "code",
   "execution_count": 30,
   "metadata": {},
   "outputs": [
    {
     "data": {
      "text/plain": [
       "58"
      ]
     },
     "execution_count": 30,
     "metadata": {},
     "output_type": "execute_result"
    }
   ],
   "source": [
    "a.romanToInt('LVIII')"
   ]
  },
  {
   "cell_type": "markdown",
   "metadata": {},
   "source": [
    "#### 25.最长公共前缀\n",
    "\n",
    "https://leetcode-cn.com/problems/longest-common-prefix/"
   ]
  },
  {
   "cell_type": "code",
   "execution_count": 55,
   "metadata": {},
   "outputs": [],
   "source": [
    "class Solution:\n",
    "    def longestCommonPrefix(self, strs):\n",
    "        if strs:\n",
    "            x1 = max(strs)\n",
    "            x2 = min(strs)\n",
    "            if len(x2) ==0:\n",
    "                return ''\n",
    "            if x1[0] != x2[0]:\n",
    "                return ''\n",
    "            for i,v in enumerate(x2):\n",
    "                if v != x1[i]:\n",
    "                    return x2[:i]\n",
    "            return x2\n",
    "        else:\n",
    "            return ''\n",
    "                \n",
    "        \n",
    "        "
   ]
  },
  {
   "cell_type": "code",
   "execution_count": 56,
   "metadata": {},
   "outputs": [],
   "source": [
    "a=Solution()"
   ]
  },
  {
   "cell_type": "code",
   "execution_count": 58,
   "metadata": {},
   "outputs": [
    {
     "data": {
      "text/plain": [
       "'a'"
      ]
     },
     "execution_count": 58,
     "metadata": {},
     "output_type": "execute_result"
    }
   ],
   "source": [
    "a.longestCommonPrefix(['a'])"
   ]
  },
  {
   "cell_type": "markdown",
   "metadata": {},
   "source": [
    "#### 26.斐波那契数列"
   ]
  },
  {
   "cell_type": "code",
   "execution_count": 1,
   "metadata": {},
   "outputs": [],
   "source": [
    "def foo(n):\n",
    "    if n==1:\n",
    "        return 1\n",
    "    if n==2:\n",
    "        return 1\n",
    "    return foo(n-1) + foo(n-2)"
   ]
  },
  {
   "cell_type": "code",
   "execution_count": 4,
   "metadata": {
    "scrolled": true
   },
   "outputs": [
    {
     "data": {
      "text/plain": [
       "5"
      ]
     },
     "execution_count": 4,
     "metadata": {},
     "output_type": "execute_result"
    }
   ],
   "source": [
    "foo(5)"
   ]
  },
  {
   "cell_type": "markdown",
   "metadata": {},
   "source": [
    "#### 27.选最K大"
   ]
  },
  {
   "cell_type": "code",
   "execution_count": 75,
   "metadata": {},
   "outputs": [],
   "source": [
    "def foo(nums,l,r,k):\n",
    "    i = l\n",
    "    j = r\n",
    "    pivot = nums[l]\n",
    "    while r>l:\n",
    "        while r>l and nums[r]>=pivot:\n",
    "            r-=1\n",
    "        nums[l] = nums[r]\n",
    "        while r>l and nums[l]<pivot:\n",
    "            l+=1\n",
    "        nums[r] = nums[l]\n",
    "    nums[r] = pivot\n",
    "    if r==k-1:\n",
    "        return nums[r]\n",
    "    elif r < k-1:\n",
    "        return foo(nums,r+1,j,k)\n",
    "    else:\n",
    "        return foo(nums,i,r-1,k)"
   ]
  },
  {
   "cell_type": "code",
   "execution_count": 76,
   "metadata": {},
   "outputs": [
    {
     "name": "stdout",
     "output_type": "stream",
     "text": [
      "2\n",
      "2.0\n"
     ]
    }
   ],
   "source": [
    "nums=np.random.randint(low=0,high=8,size=11)\n",
    "print(foo(nums,0,len(nums)-1,6))\n",
    "print(np.median(nums))"
   ]
  }
 ],
 "metadata": {
  "kernelspec": {
   "display_name": "Python 3",
   "language": "python",
   "name": "python3"
  },
  "language_info": {
   "codemirror_mode": {
    "name": "ipython",
    "version": 3
   },
   "file_extension": ".py",
   "mimetype": "text/x-python",
   "name": "python",
   "nbconvert_exporter": "python",
   "pygments_lexer": "ipython3",
   "version": "3.7.2"
  }
 },
 "nbformat": 4,
 "nbformat_minor": 2
}
