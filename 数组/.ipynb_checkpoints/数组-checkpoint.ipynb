{
 "cells": [
  {
   "cell_type": "markdown",
   "metadata": {},
   "source": [
    "#### 1. 两数之和(e)"
   ]
  },
  {
   "cell_type": "code",
   "execution_count": 5,
   "metadata": {},
   "outputs": [],
   "source": [
    "class Solution:\n",
    "    def twoSum(self, nums,target):\n",
    "        sorted_index = sorted(range(len(nums)), key = lambda x:nums[x])\n",
    "        i = 0\n",
    "        j = len(nums)-1\n",
    "        while j>i:\n",
    "            if nums[sorted_index[i]] + nums[sorted_index[j]] ==target:\n",
    "                return [sorted_index[i], sorted_index[j]]\n",
    "            elif nums[sorted_index[i]] + nums[sorted_index[j]] <target:\n",
    "                i += 1\n",
    "            else:\n",
    "                j -= 1"
   ]
  },
  {
   "cell_type": "code",
   "execution_count": 6,
   "metadata": {},
   "outputs": [],
   "source": [
    "a = Solution()"
   ]
  },
  {
   "cell_type": "code",
   "execution_count": 7,
   "metadata": {},
   "outputs": [
    {
     "data": {
      "text/plain": [
       "[0, 3]"
      ]
     },
     "execution_count": 7,
     "metadata": {},
     "output_type": "execute_result"
    }
   ],
   "source": [
    "a.twoSum([3,2,1,5],8)"
   ]
  },
  {
   "cell_type": "markdown",
   "metadata": {},
   "source": [
    "#### 4.寻找两个有序数组的中位数(h)"
   ]
  },
  {
   "cell_type": "code",
   "execution_count": null,
   "metadata": {},
   "outputs": [],
   "source": []
  },
  {
   "cell_type": "markdown",
   "metadata": {},
   "source": [
    "#### 11.盛最多水的容器(m)"
   ]
  },
  {
   "cell_type": "markdown",
   "metadata": {},
   "source": [
    "1. $O(n^2)$ 暴力法"
   ]
  },
  {
   "cell_type": "code",
   "execution_count": 19,
   "metadata": {},
   "outputs": [],
   "source": [
    "class Solution:\n",
    "    def maxArea(self, height):\n",
    "        ans = 0\n",
    "        for i in range(len(height)):\n",
    "            for j in range(i+1,len(height)):\n",
    "                area = (j-i)* min(height[i],height[j])\n",
    "                ans = max(area,ans)\n",
    "        return(ans)\n",
    "        "
   ]
  },
  {
   "cell_type": "code",
   "execution_count": 20,
   "metadata": {},
   "outputs": [],
   "source": [
    "a= Solution()"
   ]
  },
  {
   "cell_type": "code",
   "execution_count": 21,
   "metadata": {},
   "outputs": [
    {
     "data": {
      "text/plain": [
       "49"
      ]
     },
     "execution_count": 21,
     "metadata": {},
     "output_type": "execute_result"
    }
   ],
   "source": [
    "a.maxArea([1,8,6,2,5,4,8,3,7])"
   ]
  },
  {
   "cell_type": "markdown",
   "metadata": {},
   "source": [
    "2. $O(n)$双指针"
   ]
  },
  {
   "cell_type": "code",
   "execution_count": 22,
   "metadata": {},
   "outputs": [],
   "source": [
    "class Solution:\n",
    "    def maxArea(self, height):\n",
    "        ans = 0\n",
    "        i = 0\n",
    "        j = len(height)-1\n",
    "        while j>i:\n",
    "            ans = max(ans, (j-i)*min(height[j],height[i]))\n",
    "            if height[i] <= height[j]:\n",
    "                i +=1\n",
    "            else:\n",
    "                j -=1\n",
    "        return ans"
   ]
  },
  {
   "cell_type": "code",
   "execution_count": 23,
   "metadata": {},
   "outputs": [],
   "source": [
    "a=Solution()"
   ]
  },
  {
   "cell_type": "code",
   "execution_count": 24,
   "metadata": {},
   "outputs": [
    {
     "data": {
      "text/plain": [
       "49"
      ]
     },
     "execution_count": 24,
     "metadata": {},
     "output_type": "execute_result"
    }
   ],
   "source": [
    "a.maxArea([1,8,6,2,5,4,8,3,7])"
   ]
  },
  {
   "cell_type": "markdown",
   "metadata": {},
   "source": [
    "#### 15.三数之和(m)"
   ]
  },
  {
   "cell_type": "code",
   "execution_count": 47,
   "metadata": {},
   "outputs": [],
   "source": [
    "class Solution:\n",
    "    def threeSum(self, nums):\n",
    "        nums.sort()\n",
    "        sav = []\n",
    "        for i in range(len(nums)-2):\n",
    "            if i==0 or nums[i] > nums[i-1]:\n",
    "                l = i+1\n",
    "                r = len(nums)-1\n",
    "                while r>l:\n",
    "                    if nums[i] + nums[l] + nums[r] ==0:\n",
    "                        sav.append([nums[i],nums[l],nums[r]])\n",
    "                        l +=1\n",
    "                        r -=1\n",
    "                        while r>l and nums[r] == nums[r+1]:\n",
    "                            r -=1\n",
    "                        while r>l and nums[l] == nums[l-1]:\n",
    "                            l +=1\n",
    "                    elif nums[i] + nums[l] + nums[r] <0:\n",
    "                        l +=1\n",
    "                    else:\n",
    "                        r -=1\n",
    "        return sav"
   ]
  },
  {
   "cell_type": "code",
   "execution_count": 48,
   "metadata": {},
   "outputs": [],
   "source": [
    "a=Solution()"
   ]
  },
  {
   "cell_type": "code",
   "execution_count": 49,
   "metadata": {},
   "outputs": [
    {
     "data": {
      "text/plain": [
       "[[-1, -1, 2], [-1, 0, 1]]"
      ]
     },
     "execution_count": 49,
     "metadata": {},
     "output_type": "execute_result"
    }
   ],
   "source": [
    "a.threeSum([-1, 0, 1, 2, -1, -4])"
   ]
  },
  {
   "cell_type": "markdown",
   "metadata": {},
   "source": [
    "#### 16.最接近的三数之和(m)"
   ]
  },
  {
   "cell_type": "code",
   "execution_count": 84,
   "metadata": {},
   "outputs": [],
   "source": [
    "class Solution:\n",
    "    def threeSumClosest(self, nums, target):\n",
    "        nums.sort()\n",
    "        diff = float('inf')\n",
    "        for i in range(len(nums)-2):\n",
    "            l = i+1\n",
    "            r = len(nums)-1\n",
    "            while r>l:\n",
    "                if target == (nums[i]+nums[l]+nums[r]):\n",
    "                    return nums[i]+nums[l]+nums[r]\n",
    "                elif abs(target - (nums[i]+nums[l]+nums[r]))<diff:\n",
    "                    diff = abs(target - (nums[i]+nums[l]+nums[r]))\n",
    "                    ans = (nums[i]+nums[l]+nums[r])\n",
    "                if target > (nums[i]+nums[l]+nums[r]):\n",
    "                    l+=1\n",
    "                else:\n",
    "                    r -=1\n",
    "        return ans\n",
    "                    \n",
    "                    \n",
    "        "
   ]
  },
  {
   "cell_type": "code",
   "execution_count": 85,
   "metadata": {},
   "outputs": [],
   "source": [
    "a=Solution()"
   ]
  },
  {
   "cell_type": "code",
   "execution_count": 86,
   "metadata": {},
   "outputs": [
    {
     "data": {
      "text/plain": [
       "2"
      ]
     },
     "execution_count": 86,
     "metadata": {},
     "output_type": "execute_result"
    }
   ],
   "source": [
    "a.threeSumClosest([-1,2,1,-4],2)"
   ]
  },
  {
   "cell_type": "code",
   "execution_count": 87,
   "metadata": {},
   "outputs": [
    {
     "data": {
      "text/plain": [
       "0"
      ]
     },
     "execution_count": 87,
     "metadata": {},
     "output_type": "execute_result"
    }
   ],
   "source": [
    "a.threeSumClosest([0,2,1,-3],1)"
   ]
  },
  {
   "cell_type": "markdown",
   "metadata": {},
   "source": [
    "#### 18. 四数之和(m)"
   ]
  },
  {
   "cell_type": "code",
   "execution_count": 92,
   "metadata": {},
   "outputs": [],
   "source": [
    "class Solution:\n",
    "    def fourSum(self, nums, target):\n",
    "        nums.sort()\n",
    "        sav = []\n",
    "        for i in range(len(nums)-3):\n",
    "            if i==0 or nums[i] != nums[i-1]:  \n",
    "                for j in range(i+1, len(nums)-2):\n",
    "                    if j==(i+1) or nums[j] != nums[j-1]:\n",
    "                        l = j+1\n",
    "                        r = len(nums)-1\n",
    "                        while r>l:\n",
    "                            if nums[i] + nums[j]+nums[l]+nums[r] == target:\n",
    "                                sav.append([nums[i],nums[j],nums[l],nums[r]])\n",
    "                                l +=1\n",
    "                                r -=1\n",
    "                                while r>l and  nums[l] ==nums[l-1]:\n",
    "                                    l +=1\n",
    "                                while r>l and nums[r] == nums[r+1]:\n",
    "                                    r-=1\n",
    "                            elif nums[i] + nums[j]+nums[l]+nums[r] <target:\n",
    "                                l+=1\n",
    "                            else:\n",
    "                                r-=1\n",
    "        return sav\n",
    "                            "
   ]
  },
  {
   "cell_type": "code",
   "execution_count": 93,
   "metadata": {},
   "outputs": [],
   "source": [
    "a=Solution()"
   ]
  },
  {
   "cell_type": "code",
   "execution_count": 94,
   "metadata": {},
   "outputs": [
    {
     "data": {
      "text/plain": [
       "[[-2, -1, 1, 2], [-2, 0, 0, 2], [-1, 0, 0, 1]]"
      ]
     },
     "execution_count": 94,
     "metadata": {},
     "output_type": "execute_result"
    }
   ],
   "source": [
    "a.fourSum([1, 0, -1, 0, -2, 2],0)"
   ]
  },
  {
   "cell_type": "markdown",
   "metadata": {},
   "source": [
    "#### 26. 删除排序数组中的重复项(e)"
   ]
  },
  {
   "cell_type": "code",
   "execution_count": 98,
   "metadata": {},
   "outputs": [],
   "source": [
    "class Solution:\n",
    "    def removeDuplicates(self, nums):\n",
    "        if not nums:\n",
    "            return 0\n",
    "        i = 0\n",
    "        for j in range(1,len(nums)):\n",
    "            if nums[j] == nums[i]:\n",
    "                continue\n",
    "            else:\n",
    "                nums[i+1] = nums[j]\n",
    "                i +=1\n",
    "        return i+1"
   ]
  },
  {
   "cell_type": "code",
   "execution_count": 99,
   "metadata": {},
   "outputs": [],
   "source": [
    "a=Solution()"
   ]
  },
  {
   "cell_type": "code",
   "execution_count": 100,
   "metadata": {},
   "outputs": [
    {
     "data": {
      "text/plain": [
       "2"
      ]
     },
     "execution_count": 100,
     "metadata": {},
     "output_type": "execute_result"
    }
   ],
   "source": [
    "a.removeDuplicates([1,1,2])"
   ]
  },
  {
   "cell_type": "code",
   "execution_count": 101,
   "metadata": {
    "scrolled": true
   },
   "outputs": [
    {
     "data": {
      "text/plain": [
       "0"
      ]
     },
     "execution_count": 101,
     "metadata": {},
     "output_type": "execute_result"
    }
   ],
   "source": [
    "a.removeDuplicates([])"
   ]
  },
  {
   "cell_type": "markdown",
   "metadata": {},
   "source": [
    "#### 27.移除元素"
   ]
  },
  {
   "cell_type": "code",
   "execution_count": 213,
   "metadata": {},
   "outputs": [],
   "source": [
    "class Solution:\n",
    "    def removeElement(self, nums, val):\n",
    "        i = 0\n",
    "        for num in nums:\n",
    "            if num !=val:\n",
    "                nums[i] = num\n",
    "                i +=1\n",
    "        return i"
   ]
  },
  {
   "cell_type": "markdown",
   "metadata": {},
   "source": [
    "#### 31.下一个排列(m)(没看懂题目:(!)"
   ]
  },
  {
   "cell_type": "code",
   "execution_count": null,
   "metadata": {},
   "outputs": [],
   "source": []
  },
  {
   "cell_type": "markdown",
   "metadata": {},
   "source": [
    "#### 33.搜索旋转排序数组"
   ]
  },
  {
   "cell_type": "code",
   "execution_count": 6,
   "metadata": {},
   "outputs": [],
   "source": [
    "class Solution:\n",
    "    def search(self, nums, target):\n",
    "        if not nums:\n",
    "            return -1\n",
    "        i = 0\n",
    "        j = len(nums)-1\n",
    "        while j>=i:\n",
    "            mid = (i + j)//2\n",
    "            if nums[mid] == target:\n",
    "                return mid\n",
    "            elif nums[mid]>=nums[i]:####=一定要加这 不然[1,3]无限循环\n",
    "                if nums[i]<=target<=nums[mid]:\n",
    "                    j = mid\n",
    "                else:\n",
    "                    i = mid + 1\n",
    "            else:\n",
    "                if nums[mid]<= target <= nums[j]:\n",
    "                    i = mid\n",
    "                else:\n",
    "                    j = mid -1\n",
    "        return -1"
   ]
  },
  {
   "cell_type": "code",
   "execution_count": 7,
   "metadata": {},
   "outputs": [],
   "source": [
    "a=Solution()"
   ]
  },
  {
   "cell_type": "code",
   "execution_count": 8,
   "metadata": {},
   "outputs": [
    {
     "data": {
      "text/plain": [
       "4"
      ]
     },
     "execution_count": 8,
     "metadata": {},
     "output_type": "execute_result"
    }
   ],
   "source": [
    "a.search([4,5,6,7,0,1,2],0)"
   ]
  },
  {
   "cell_type": "code",
   "execution_count": 9,
   "metadata": {},
   "outputs": [
    {
     "data": {
      "text/plain": [
       "-1"
      ]
     },
     "execution_count": 9,
     "metadata": {},
     "output_type": "execute_result"
    }
   ],
   "source": [
    "a.search([1,3],2)"
   ]
  },
  {
   "cell_type": "markdown",
   "metadata": {},
   "source": [
    "#### 34.在排序数组中查找元素的第一个和最后一个位置(m)"
   ]
  },
  {
   "cell_type": "code",
   "execution_count": 57,
   "metadata": {},
   "outputs": [],
   "source": [
    "class Solution:\n",
    "    def find_target_left(self,nums,i,j,target):\n",
    "        l = i\n",
    "        r = j\n",
    "        while j>i:\n",
    "            mid = (i+j)//2\n",
    "            if nums[mid]<target:\n",
    "                i = mid +1\n",
    "            elif nums[mid] == target:\n",
    "                j = mid\n",
    "        if i==l or nums[i] != nums[i-1]:\n",
    "            return i\n",
    "        if nums[i] == nums[i-1]:\n",
    "            return i-1\n",
    "    def find_target_right(self,nums,i,j,target):\n",
    "        l = i \n",
    "        r = j\n",
    "        while j-1>i:\n",
    "            mid = (i+j)//2\n",
    "            if nums[mid]>target:\n",
    "                j = mid -1\n",
    "            elif nums[mid] == target:\n",
    "                i = mid\n",
    "        if i == r or nums[i] !=nums[i+1]:\n",
    "            return i\n",
    "        if nums[i] == nums[i+1]:\n",
    "            return i+1\n",
    "    def searchRange(self, nums, target):\n",
    "        i = 0\n",
    "        j = len(nums)-1\n",
    "        while j>=i:\n",
    "            mid = (i+j)//2\n",
    "            if nums[mid]>target:\n",
    "                j = mid -1\n",
    "            elif nums[mid] <target:\n",
    "                i = mid + 1\n",
    "            else:\n",
    "                a = self.find_target_left(nums,i,mid,target)\n",
    "                b = self.find_target_right(nums,mid,j,target)\n",
    "                return [a,b]\n",
    "        return [-1,-1]"
   ]
  },
  {
   "cell_type": "code",
   "execution_count": 54,
   "metadata": {},
   "outputs": [],
   "source": [
    "a=Solution()"
   ]
  },
  {
   "cell_type": "code",
   "execution_count": 56,
   "metadata": {},
   "outputs": [
    {
     "data": {
      "text/plain": [
       "[3, 4]"
      ]
     },
     "execution_count": 56,
     "metadata": {},
     "output_type": "execute_result"
    }
   ],
   "source": [
    "a.searchRange([5,7,7,8,8,10],8)"
   ]
  },
  {
   "cell_type": "markdown",
   "metadata": {},
   "source": [
    "#### 35.搜索插入位置(e)"
   ]
  },
  {
   "cell_type": "code",
   "execution_count": 1,
   "metadata": {},
   "outputs": [],
   "source": [
    "class Solution:\n",
    "    def searchInsert(self, nums, target):\n",
    "        i = 0\n",
    "        j = len(nums)-1\n",
    "        while j>=i:\n",
    "            mid = (i+j)//2\n",
    "            if nums[mid] == target:\n",
    "                return mid\n",
    "            if i==j:\n",
    "                break\n",
    "            if nums[mid] < target:\n",
    "                i = mid +1\n",
    "            else:\n",
    "                j = mid -1\n",
    "        if nums[i]< target:\n",
    "            return i+1\n",
    "        else:\n",
    "            return i"
   ]
  },
  {
   "cell_type": "markdown",
   "metadata": {},
   "source": [
    "#### 53.最大子序和(e)"
   ]
  },
  {
   "cell_type": "code",
   "execution_count": 8,
   "metadata": {},
   "outputs": [],
   "source": [
    "class Solution:\n",
    "    def maxSubArray(self, nums):\n",
    "        ####动态规划求解\n",
    "        max_ending = -float('inf')\n",
    "        max_result = -float('inf')\n",
    "        for j in range(len(nums)):\n",
    "            max_ending = max(nums[j],max_ending+nums[j])\n",
    "            max_result = max(max_ending,max_result)\n",
    "        return max_result"
   ]
  },
  {
   "cell_type": "code",
   "execution_count": 9,
   "metadata": {},
   "outputs": [],
   "source": [
    "a=Solution()"
   ]
  },
  {
   "cell_type": "code",
   "execution_count": 10,
   "metadata": {},
   "outputs": [
    {
     "data": {
      "text/plain": [
       "6"
      ]
     },
     "execution_count": 10,
     "metadata": {},
     "output_type": "execute_result"
    }
   ],
   "source": [
    "a.maxSubArray([-2,1,-3,4,-1,2,1,-5,4])"
   ]
  },
  {
   "cell_type": "code",
   "execution_count": 26,
   "metadata": {},
   "outputs": [],
   "source": [
    "####分治 nlogn\n",
    "class Solution:\n",
    "    def maxSubArray(self, nums):\n",
    "        ####递归分治\n",
    "        if len(nums)==0:\n",
    "            return 0\n",
    "        if len(nums)==1:\n",
    "            return nums[0]\n",
    "        \n",
    "        mid = (0 + len(nums)-1)//2\n",
    "        a1 = nums[:(mid+1)]\n",
    "        a2 = nums[(mid+1):]\n",
    "        #### left\n",
    "        lmax = -float('inf')\n",
    "        suml = 0\n",
    "        for t in range(mid,-1,-1):\n",
    "            suml = suml + nums[t]\n",
    "            if suml > lmax:\n",
    "                lmax=suml\n",
    "        ### right\n",
    "        rmax = -float('inf')\n",
    "        sumr = 0\n",
    "        for t in range(mid+1,len(nums)):\n",
    "            sumr = sumr + nums[t]\n",
    "            if sumr > rmax:\n",
    "                rmax=sumr\n",
    "        mid_max = rmax + lmax\n",
    "        return max(self.maxSubArray(a1),self.maxSubArray(a2),mid_max)"
   ]
  },
  {
   "cell_type": "code",
   "execution_count": 24,
   "metadata": {},
   "outputs": [],
   "source": [
    "a=Solution()"
   ]
  },
  {
   "cell_type": "code",
   "execution_count": 27,
   "metadata": {},
   "outputs": [
    {
     "data": {
      "text/plain": [
       "6"
      ]
     },
     "execution_count": 27,
     "metadata": {},
     "output_type": "execute_result"
    }
   ],
   "source": [
    "a.maxSubArray([-2,1,-3,4,-1,2,1,-5,4])"
   ]
  },
  {
   "cell_type": "markdown",
   "metadata": {},
   "source": [
    "#### 54.螺旋矩阵(m)"
   ]
  },
  {
   "cell_type": "code",
   "execution_count": 39,
   "metadata": {},
   "outputs": [],
   "source": [
    "class Solution:\n",
    "    def spiralOrder(self, matrix):\n",
    "        if len(matrix)==0:\n",
    "            return []\n",
    "        m = len(matrix)\n",
    "        n = len(matrix[0])\n",
    "        save = []\n",
    "        #####去除几个特殊情况\n",
    "        if m==1 and n==1:\n",
    "            return matrix[0]\n",
    "        if m ==1:\n",
    "            return (matrix[0])\n",
    "        if n ==1:\n",
    "            for _ in matrix:\n",
    "                save.append(_[0])\n",
    "            return save\n",
    "        ######\n",
    "        i = 0\n",
    "        j = 0\n",
    "        save.append(matrix[0][0])\n",
    "        ct = 1\n",
    "        for _ in range(n-1):\n",
    "            j +=1\n",
    "            save.append(matrix[i][j])\n",
    "        for _ in range(m-1):\n",
    "            i+=1\n",
    "            save.append(matrix[i][j])\n",
    "        for _ in range(n-1):\n",
    "            j-=1\n",
    "            save.append(matrix[i][j])\n",
    "        m -=1\n",
    "        n -=1\n",
    "        if n==1:\n",
    "            for _ in range(m-1):\n",
    "                i -=1\n",
    "                save.append(matrix[i][j])\n",
    "                \n",
    "        while n-1 !=0 and m-1!=0:\n",
    "            if ct%2 ==1:\n",
    "                for _ in range(m-1):\n",
    "                    i-=1\n",
    "                    save.append(matrix[i][j])\n",
    "                for _ in range(n-1):\n",
    "                    j +=1\n",
    "                    save.append(matrix[i][j])\n",
    "                ct +=1\n",
    "                m -=1\n",
    "                n -=1\n",
    "                if n==1:\n",
    "                    for _ in range(m-1):\n",
    "                        i+=1\n",
    "                        save.append(matrix[i][j])\n",
    "            else:\n",
    "                for _ in range(m-1):\n",
    "                    i+=1\n",
    "                    save.append(matrix[i][j])\n",
    "                for _ in range(n-1):\n",
    "                    j-=1\n",
    "                    save.append(matrix[i][j])\n",
    "                ct +=1\n",
    "                m -=1\n",
    "                n -=1\n",
    "                if n==1:\n",
    "                    for _ in range(m-1):\n",
    "                        i-=1\n",
    "                        save.append(matrix[i][j])\n",
    "        return save\n",
    "            "
   ]
  },
  {
   "cell_type": "code",
   "execution_count": 40,
   "metadata": {},
   "outputs": [],
   "source": [
    "a=Solution()"
   ]
  },
  {
   "cell_type": "code",
   "execution_count": 42,
   "metadata": {},
   "outputs": [
    {
     "data": {
      "text/plain": [
       "[2, 3, 4, 7, 10, 13, 12, 11, 8, 5, 6, 9]"
      ]
     },
     "execution_count": 42,
     "metadata": {},
     "output_type": "execute_result"
    }
   ],
   "source": [
    "a.spiralOrder(\n",
    "[[2,3,4],[5,6,7],[8,9,10],[11,12,13]])"
   ]
  },
  {
   "cell_type": "markdown",
   "metadata": {},
   "source": [
    "#### 59.螺旋矩阵II(m)"
   ]
  },
  {
   "cell_type": "code",
   "execution_count": 101,
   "metadata": {},
   "outputs": [],
   "source": [
    "class Solution:\n",
    "    def generateMatrix(self, n):\n",
    "        matrix = []\n",
    "        for _ in range(n):\n",
    "            temp=[]\n",
    "            for __ in range(n):\n",
    "                temp.append(0)\n",
    "            matrix.append(temp)\n",
    "        i=j=0\n",
    "        matrix[0][0] = 1\n",
    "        a = 1\n",
    "        if n==1:\n",
    "            return [[1]]\n",
    "        for _ in range(n-1):\n",
    "            a +=1\n",
    "            j+=1\n",
    "            matrix[i][j] = a\n",
    "        for _ in range(n-1):\n",
    "            a +=1\n",
    "            i +=1\n",
    "            matrix[i][j] =a\n",
    "        for _ in range(n-1):\n",
    "            a +=1\n",
    "            j-=1\n",
    "            matrix[i][j] =a\n",
    "        #print(matrix)\n",
    "        n -=1\n",
    "        ct = 1\n",
    "        while n-1!=0:\n",
    "            if ct%2 ==1:\n",
    "                for _ in range(n-1):\n",
    "                    a+=1\n",
    "                    i-=1\n",
    "                    matrix[i][j]=a\n",
    "                for _ in range(n-1):\n",
    "                    a+=1\n",
    "                    j+=1\n",
    "                    matrix[i][j]=a\n",
    "                n -=1\n",
    "                ct +=1\n",
    "            else:\n",
    "                for _ in range(n-1):\n",
    "                    a+=1\n",
    "                    i+=1\n",
    "                    matrix[i][j]=a\n",
    "                for _ in range(n-1):\n",
    "                    a+=1\n",
    "                    j-=1\n",
    "                    matrix[i][j]=a\n",
    "                n -=1\n",
    "                ct +=1\n",
    "        return matrix\n",
    "            "
   ]
  },
  {
   "cell_type": "code",
   "execution_count": 102,
   "metadata": {},
   "outputs": [],
   "source": [
    "a=Solution()"
   ]
  },
  {
   "cell_type": "code",
   "execution_count": 104,
   "metadata": {},
   "outputs": [
    {
     "data": {
      "text/plain": [
       "[[1, 2, 3], [8, 9, 4], [7, 6, 5]]"
      ]
     },
     "execution_count": 104,
     "metadata": {},
     "output_type": "execute_result"
    }
   ],
   "source": [
    "a.generateMatrix(3)"
   ]
  },
  {
   "cell_type": "markdown",
   "metadata": {},
   "source": [
    "#### 80.删除排序数组的重复项II(m)"
   ]
  },
  {
   "cell_type": "code",
   "execution_count": 184,
   "metadata": {},
   "outputs": [],
   "source": [
    "class Solution:\n",
    "    def removeDuplicates(self, nums):\n",
    "        if not nums:\n",
    "            return 0\n",
    "        i =0\n",
    "        ct = 1\n",
    "        for j in range(1,len(nums)):\n",
    "            if nums[j] !=nums[i]:\n",
    "                nums[i+1] = nums[j]\n",
    "                i+=1\n",
    "                ct = 1\n",
    "            elif nums[j] == nums[i] and ct<2:\n",
    "                nums[i+1] = nums[j]\n",
    "                i+=1\n",
    "                ct +=1\n",
    "        return i+1"
   ]
  },
  {
   "cell_type": "code",
   "execution_count": 191,
   "metadata": {},
   "outputs": [],
   "source": [
    "a=Solution()"
   ]
  },
  {
   "cell_type": "code",
   "execution_count": 192,
   "metadata": {},
   "outputs": [
    {
     "data": {
      "text/plain": [
       "4"
      ]
     },
     "execution_count": 192,
     "metadata": {},
     "output_type": "execute_result"
    }
   ],
   "source": [
    "a.removeDuplicates([1,2,3,3])"
   ]
  },
  {
   "cell_type": "code",
   "execution_count": 193,
   "metadata": {},
   "outputs": [],
   "source": [
    "class Solution:\n",
    "    def removeDuplicates(self, nums):\n",
    "        i = 0\n",
    "        for num in nums:\n",
    "            if i<2 or num !=nums[i-2]:\n",
    "                nums[i] = num\n",
    "                i +=1\n",
    "        return i"
   ]
  },
  {
   "cell_type": "code",
   "execution_count": 194,
   "metadata": {},
   "outputs": [],
   "source": [
    "a=Solution()"
   ]
  },
  {
   "cell_type": "code",
   "execution_count": 195,
   "metadata": {
    "scrolled": true
   },
   "outputs": [
    {
     "data": {
      "text/plain": [
       "4"
      ]
     },
     "execution_count": 195,
     "metadata": {},
     "output_type": "execute_result"
    }
   ],
   "source": [
    "a.removeDuplicates([1,2,3,3])"
   ]
  },
  {
   "cell_type": "markdown",
   "metadata": {},
   "source": [
    "#### 152.乘积最大子序列(m)"
   ]
  },
  {
   "cell_type": "code",
   "execution_count": 35,
   "metadata": {},
   "outputs": [],
   "source": [
    "class Solution:\n",
    "    def maxProduct(self, nums):\n",
    "        max_end = 1\n",
    "        max_result = -float('inf')\n",
    "        min_end = 1\n",
    "        min_result = -float('inf')\n",
    "        for i in range(len(nums)):\n",
    "            max_end,min_end = max(max_end*nums[i], nums[i],min_end*nums[i]),min(min_end*nums[i], nums[i],max_end*nums[i])\n",
    "            if max_end > max_result:\n",
    "                max_result = max_end\n",
    "        return max_result"
   ]
  },
  {
   "cell_type": "code",
   "execution_count": 36,
   "metadata": {},
   "outputs": [],
   "source": [
    "a=Solution()"
   ]
  },
  {
   "cell_type": "code",
   "execution_count": 37,
   "metadata": {},
   "outputs": [
    {
     "data": {
      "text/plain": [
       "6"
      ]
     },
     "execution_count": 37,
     "metadata": {},
     "output_type": "execute_result"
    }
   ],
   "source": [
    "a.maxProduct([2,3,-2,4])"
   ]
  },
  {
   "cell_type": "markdown",
   "metadata": {},
   "source": [
    "#### 169.求众数(e)"
   ]
  },
  {
   "cell_type": "code",
   "execution_count": 146,
   "metadata": {},
   "outputs": [],
   "source": [
    "from collections import defaultdict\n",
    "class Solution:\n",
    "    def majorityElement(self, nums):\n",
    "        dict1 = defaultdict(int)\n",
    "        for num in nums:\n",
    "            dict1[num] +=1\n",
    "        max1=0\n",
    "        ans = -1\n",
    "        for k,v in dict1.items():\n",
    "            if v>max1:\n",
    "                ans=k\n",
    "                max1=v\n",
    "        return ans\n",
    "        "
   ]
  },
  {
   "cell_type": "code",
   "execution_count": 147,
   "metadata": {},
   "outputs": [],
   "source": [
    "a=Solution()"
   ]
  },
  {
   "cell_type": "code",
   "execution_count": 148,
   "metadata": {},
   "outputs": [
    {
     "data": {
      "text/plain": [
       "3"
      ]
     },
     "execution_count": 148,
     "metadata": {},
     "output_type": "execute_result"
    }
   ],
   "source": [
    "a.majorityElement([3,2,2,1,3])"
   ]
  },
  {
   "cell_type": "code",
   "execution_count": 156,
   "metadata": {},
   "outputs": [],
   "source": [
    "####摩尔投票法 不需要额外空间\n",
    "class Solution:\n",
    "    def majorityElement(self, nums):\n",
    "        ct = 0\n",
    "        save = 0\n",
    "        for num in nums:\n",
    "            if ct ==0:\n",
    "                save = num\n",
    "            if num!=save:\n",
    "                ct-=1\n",
    "            else:\n",
    "                ct+=1\n",
    "        return save"
   ]
  },
  {
   "cell_type": "markdown",
   "metadata": {},
   "source": [
    "#### 215.数组中第K个最大元素(m)"
   ]
  },
  {
   "cell_type": "code",
   "execution_count": 1,
   "metadata": {},
   "outputs": [],
   "source": [
    "class Solution:\n",
    "    def findKthLargest(self, nums, k):\n",
    "        def foo(nums,l,r,k):\n",
    "            i = l\n",
    "            j = r\n",
    "            pivot = nums[l]\n",
    "            while r>l:\n",
    "                while r>l and nums[r]>=pivot:\n",
    "                    r-=1\n",
    "                nums[l] = nums[r]\n",
    "                while r>l and nums[l]<pivot:\n",
    "                    l+=1\n",
    "                nums[r] = nums[l]\n",
    "            nums[r] = pivot\n",
    "            if r==len(nums)-k:\n",
    "                return nums[r]\n",
    "            elif r < len(nums)-k:\n",
    "                return foo(nums,r+1,j,k)\n",
    "            else:\n",
    "                return foo(nums,i,r-1,k)\n",
    "        l=0\n",
    "        r=len(nums)\n",
    "        return foo(nums,0,r-1,k)"
   ]
  },
  {
   "cell_type": "markdown",
   "metadata": {},
   "source": [
    "#### 229.求众数II(m)"
   ]
  },
  {
   "cell_type": "code",
   "execution_count": 176,
   "metadata": {},
   "outputs": [],
   "source": [
    "#### https://blog.csdn.net/fuxuemingzhu/article/details/83501323\n",
    "class Solution:\n",
    "    def majorityElement(self, nums):\n",
    "        m=n=0.5\n",
    "        ctm=ctn=0\n",
    "        for num in nums:\n",
    "            if m == num:\n",
    "                ctm+=1\n",
    "            elif n == num:\n",
    "                ctn+=1\n",
    "            elif ctm == 0:\n",
    "                m = num\n",
    "                ctm+=1\n",
    "            elif ctn==0:\n",
    "                n = num\n",
    "                ctn+=1\n",
    "            else:\n",
    "                ctn -=1\n",
    "                ctm -=1\n",
    "        ctn=0\n",
    "        ctm=0\n",
    "        save=[]\n",
    "        for num in nums:\n",
    "            if num ==n:\n",
    "                ctn+=1\n",
    "            if num == m:\n",
    "                ctm+=1\n",
    "        if ctn >len(nums)//3:\n",
    "            save.append(n)\n",
    "        if ctm>len(nums)//3:\n",
    "            save.append(m)\n",
    "        return save\n",
    "                "
   ]
  },
  {
   "cell_type": "code",
   "execution_count": 177,
   "metadata": {},
   "outputs": [],
   "source": [
    "a=Solution()"
   ]
  },
  {
   "cell_type": "code",
   "execution_count": 178,
   "metadata": {
    "scrolled": true
   },
   "outputs": [
    {
     "data": {
      "text/plain": [
       "[0]"
      ]
     },
     "execution_count": 178,
     "metadata": {},
     "output_type": "execute_result"
    }
   ],
   "source": [
    "a.majorityElement([0,0,0])"
   ]
  },
  {
   "cell_type": "markdown",
   "metadata": {},
   "source": [
    "#### 414.第三大的数(e)"
   ]
  },
  {
   "cell_type": "code",
   "execution_count": 41,
   "metadata": {},
   "outputs": [],
   "source": [
    "class Solution:\n",
    "    def thirdMax(self, nums):\n",
    "        if len(set(nums))<3:\n",
    "            return max(nums)\n",
    "        r1 = r2 = r3 = -float('inf')\n",
    "        for num in nums:\n",
    "            if num == r1 or num == r2 or num == r3:\n",
    "                continue\n",
    "            if num >= r1:\n",
    "                r1,r2,r3 = num,r1,r2\n",
    "            elif num >= r2:\n",
    "                r2,r3 = num,r2\n",
    "            elif num>= r3:\n",
    "                r3 = num\n",
    "        return r3\n",
    "        "
   ]
  },
  {
   "cell_type": "code",
   "execution_count": 42,
   "metadata": {},
   "outputs": [],
   "source": [
    "a=Solution()"
   ]
  },
  {
   "cell_type": "code",
   "execution_count": 43,
   "metadata": {},
   "outputs": [
    {
     "data": {
      "text/plain": [
       "1"
      ]
     },
     "execution_count": 43,
     "metadata": {},
     "output_type": "execute_result"
    }
   ],
   "source": [
    "a.thirdMax([1,2,2,3])"
   ]
  },
  {
   "cell_type": "markdown",
   "metadata": {},
   "source": [
    "#### 713.乘积小于k的子数组(m)"
   ]
  },
  {
   "cell_type": "code",
   "execution_count": 54,
   "metadata": {},
   "outputs": [],
   "source": [
    "class Solution:\n",
    "    def numSubarrayProductLessThanK(self, nums, k):\n",
    "        i = 0\n",
    "        prod = 1\n",
    "        n = 0\n",
    "        for j in range(len(nums)):\n",
    "            prod *= nums[j]\n",
    "            while j>=i and prod >=k:\n",
    "                prod /= nums[i]\n",
    "                i +=1\n",
    "            n += j-i+1\n",
    "        return n"
   ]
  },
  {
   "cell_type": "code",
   "execution_count": 55,
   "metadata": {},
   "outputs": [],
   "source": [
    "a=Solution()"
   ]
  },
  {
   "cell_type": "code",
   "execution_count": 56,
   "metadata": {},
   "outputs": [
    {
     "data": {
      "text/plain": [
       "8"
      ]
     },
     "execution_count": 56,
     "metadata": {},
     "output_type": "execute_result"
    }
   ],
   "source": [
    "a.numSubarrayProductLessThanK([10,5,2,6],100)"
   ]
  },
  {
   "cell_type": "markdown",
   "metadata": {},
   "source": [
    "#### 905.按奇偶排序数组(e)"
   ]
  },
  {
   "cell_type": "code",
   "execution_count": 1,
   "metadata": {},
   "outputs": [],
   "source": [
    "class Solution:\n",
    "    def sortArrayByParity(self, A):\n",
    "        i = 0\n",
    "        j = len(A)-1\n",
    "        while j>i:\n",
    "            while j>i and A[j]%2==1:\n",
    "                j-=1\n",
    "            while j>i and A[i]%2 ==0:\n",
    "                i+=1\n",
    "            A[i],A[j] = A[j],A[i]\n",
    "        return A\n",
    "                "
   ]
  },
  {
   "cell_type": "code",
   "execution_count": 3,
   "metadata": {},
   "outputs": [],
   "source": [
    "a=Solution()"
   ]
  },
  {
   "cell_type": "code",
   "execution_count": 4,
   "metadata": {},
   "outputs": [
    {
     "data": {
      "text/plain": [
       "[4, 2, 1, 3]"
      ]
     },
     "execution_count": 4,
     "metadata": {},
     "output_type": "execute_result"
    }
   ],
   "source": [
    "a.sortArrayByParity([3,1,2,4])"
   ]
  }
 ],
 "metadata": {
  "kernelspec": {
   "display_name": "Python 3",
   "language": "python",
   "name": "python3"
  },
  "language_info": {
   "codemirror_mode": {
    "name": "ipython",
    "version": 3
   },
   "file_extension": ".py",
   "mimetype": "text/x-python",
   "name": "python",
   "nbconvert_exporter": "python",
   "pygments_lexer": "ipython3",
   "version": "3.7.2"
  }
 },
 "nbformat": 4,
 "nbformat_minor": 2
}
