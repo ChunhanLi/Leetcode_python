{
 "cells": [
  {
   "cell_type": "markdown",
   "metadata": {},
   "source": [
    "#### 1. 两数之和(e)"
   ]
  },
  {
   "cell_type": "code",
   "execution_count": 5,
   "metadata": {},
   "outputs": [],
   "source": [
    "class Solution:\n",
    "    def twoSum(self, nums,target):\n",
    "        sorted_index = sorted(range(len(nums)), key = lambda x:nums[x])\n",
    "        i = 0\n",
    "        j = len(nums)-1\n",
    "        while j>i:\n",
    "            if nums[sorted_index[i]] + nums[sorted_index[j]] ==target:\n",
    "                return [sorted_index[i], sorted_index[j]]\n",
    "            elif nums[sorted_index[i]] + nums[sorted_index[j]] <target:\n",
    "                i += 1\n",
    "            else:\n",
    "                j -= 1"
   ]
  },
  {
   "cell_type": "code",
   "execution_count": 6,
   "metadata": {},
   "outputs": [],
   "source": [
    "a = Solution()"
   ]
  },
  {
   "cell_type": "code",
   "execution_count": 7,
   "metadata": {},
   "outputs": [
    {
     "data": {
      "text/plain": [
       "[0, 3]"
      ]
     },
     "execution_count": 7,
     "metadata": {},
     "output_type": "execute_result"
    }
   ],
   "source": [
    "a.twoSum([3,2,1,5],8)"
   ]
  },
  {
   "cell_type": "markdown",
   "metadata": {},
   "source": [
    "#### 4.寻找两个有序数组的中位数(h)"
   ]
  },
  {
   "cell_type": "code",
   "execution_count": null,
   "metadata": {},
   "outputs": [],
   "source": []
  },
  {
   "cell_type": "markdown",
   "metadata": {},
   "source": [
    "#### 11.盛最多水的容器(m)"
   ]
  },
  {
   "cell_type": "markdown",
   "metadata": {},
   "source": [
    "1. $O(n^2)$ 暴力法"
   ]
  },
  {
   "cell_type": "code",
   "execution_count": 19,
   "metadata": {},
   "outputs": [],
   "source": [
    "class Solution:\n",
    "    def maxArea(self, height):\n",
    "        ans = 0\n",
    "        for i in range(len(height)):\n",
    "            for j in range(i+1,len(height)):\n",
    "                area = (j-i)* min(height[i],height[j])\n",
    "                ans = max(area,ans)\n",
    "        return(ans)\n",
    "        "
   ]
  },
  {
   "cell_type": "code",
   "execution_count": 20,
   "metadata": {},
   "outputs": [],
   "source": [
    "a= Solution()"
   ]
  },
  {
   "cell_type": "code",
   "execution_count": 21,
   "metadata": {},
   "outputs": [
    {
     "data": {
      "text/plain": [
       "49"
      ]
     },
     "execution_count": 21,
     "metadata": {},
     "output_type": "execute_result"
    }
   ],
   "source": [
    "a.maxArea([1,8,6,2,5,4,8,3,7])"
   ]
  },
  {
   "cell_type": "markdown",
   "metadata": {},
   "source": [
    "2. $O(n)$双指针"
   ]
  },
  {
   "cell_type": "code",
   "execution_count": 22,
   "metadata": {},
   "outputs": [],
   "source": [
    "class Solution:\n",
    "    def maxArea(self, height):\n",
    "        ans = 0\n",
    "        i = 0\n",
    "        j = len(height)-1\n",
    "        while j>i:\n",
    "            ans = max(ans, (j-i)*min(height[j],height[i]))\n",
    "            if height[i] <= height[j]:\n",
    "                i +=1\n",
    "            else:\n",
    "                j -=1\n",
    "        return ans"
   ]
  },
  {
   "cell_type": "code",
   "execution_count": 23,
   "metadata": {},
   "outputs": [],
   "source": [
    "a=Solution()"
   ]
  },
  {
   "cell_type": "code",
   "execution_count": 24,
   "metadata": {},
   "outputs": [
    {
     "data": {
      "text/plain": [
       "49"
      ]
     },
     "execution_count": 24,
     "metadata": {},
     "output_type": "execute_result"
    }
   ],
   "source": [
    "a.maxArea([1,8,6,2,5,4,8,3,7])"
   ]
  },
  {
   "cell_type": "markdown",
   "metadata": {},
   "source": [
    "#### 15.三数之和(m)"
   ]
  },
  {
   "cell_type": "code",
   "execution_count": 47,
   "metadata": {},
   "outputs": [],
   "source": [
    "class Solution:\n",
    "    def threeSum(self, nums):\n",
    "        nums.sort()\n",
    "        sav = []\n",
    "        for i in range(len(nums)-2):\n",
    "            if i==0 or nums[i] > nums[i-1]:\n",
    "                l = i+1\n",
    "                r = len(nums)-1\n",
    "                while r>l:\n",
    "                    if nums[i] + nums[l] + nums[r] ==0:\n",
    "                        sav.append([nums[i],nums[l],nums[r]])\n",
    "                        l +=1\n",
    "                        r -=1\n",
    "                        while r>l and nums[r] == nums[r+1]:\n",
    "                            r -=1\n",
    "                        while r>l and nums[l] == nums[l-1]:\n",
    "                            l +=1\n",
    "                    elif nums[i] + nums[l] + nums[r] <0:\n",
    "                        l +=1\n",
    "                    else:\n",
    "                        r -=1\n",
    "        return sav"
   ]
  },
  {
   "cell_type": "code",
   "execution_count": 48,
   "metadata": {},
   "outputs": [],
   "source": [
    "a=Solution()"
   ]
  },
  {
   "cell_type": "code",
   "execution_count": 49,
   "metadata": {},
   "outputs": [
    {
     "data": {
      "text/plain": [
       "[[-1, -1, 2], [-1, 0, 1]]"
      ]
     },
     "execution_count": 49,
     "metadata": {},
     "output_type": "execute_result"
    }
   ],
   "source": [
    "a.threeSum([-1, 0, 1, 2, -1, -4])"
   ]
  },
  {
   "cell_type": "markdown",
   "metadata": {},
   "source": [
    "#### 16.最接近的三数之和(m)"
   ]
  },
  {
   "cell_type": "code",
   "execution_count": 84,
   "metadata": {},
   "outputs": [],
   "source": [
    "class Solution:\n",
    "    def threeSumClosest(self, nums, target):\n",
    "        nums.sort()\n",
    "        diff = float('inf')\n",
    "        for i in range(len(nums)-2):\n",
    "            l = i+1\n",
    "            r = len(nums)-1\n",
    "            while r>l:\n",
    "                if target == (nums[i]+nums[l]+nums[r]):\n",
    "                    return nums[i]+nums[l]+nums[r]\n",
    "                elif abs(target - (nums[i]+nums[l]+nums[r]))<diff:\n",
    "                    diff = abs(target - (nums[i]+nums[l]+nums[r]))\n",
    "                    ans = (nums[i]+nums[l]+nums[r])\n",
    "                if target > (nums[i]+nums[l]+nums[r]):\n",
    "                    l+=1\n",
    "                else:\n",
    "                    r -=1\n",
    "        return ans\n",
    "                    \n",
    "                    \n",
    "        "
   ]
  },
  {
   "cell_type": "code",
   "execution_count": 85,
   "metadata": {},
   "outputs": [],
   "source": [
    "a=Solution()"
   ]
  },
  {
   "cell_type": "code",
   "execution_count": 86,
   "metadata": {},
   "outputs": [
    {
     "data": {
      "text/plain": [
       "2"
      ]
     },
     "execution_count": 86,
     "metadata": {},
     "output_type": "execute_result"
    }
   ],
   "source": [
    "a.threeSumClosest([-1,2,1,-4],2)"
   ]
  },
  {
   "cell_type": "code",
   "execution_count": 87,
   "metadata": {},
   "outputs": [
    {
     "data": {
      "text/plain": [
       "0"
      ]
     },
     "execution_count": 87,
     "metadata": {},
     "output_type": "execute_result"
    }
   ],
   "source": [
    "a.threeSumClosest([0,2,1,-3],1)"
   ]
  },
  {
   "cell_type": "markdown",
   "metadata": {},
   "source": [
    "#### 18. 四数之和(m)"
   ]
  },
  {
   "cell_type": "code",
   "execution_count": 92,
   "metadata": {},
   "outputs": [],
   "source": [
    "class Solution:\n",
    "    def fourSum(self, nums, target):\n",
    "        nums.sort()\n",
    "        sav = []\n",
    "        for i in range(len(nums)-3):\n",
    "            if i==0 or nums[i] != nums[i-1]:  \n",
    "                for j in range(i+1, len(nums)-2):\n",
    "                    if j==(i+1) or nums[j] != nums[j-1]:\n",
    "                        l = j+1\n",
    "                        r = len(nums)-1\n",
    "                        while r>l:\n",
    "                            if nums[i] + nums[j]+nums[l]+nums[r] == target:\n",
    "                                sav.append([nums[i],nums[j],nums[l],nums[r]])\n",
    "                                l +=1\n",
    "                                r -=1\n",
    "                                while r>l and  nums[l] ==nums[l-1]:\n",
    "                                    l +=1\n",
    "                                while r>l and nums[r] == nums[r+1]:\n",
    "                                    r-=1\n",
    "                            elif nums[i] + nums[j]+nums[l]+nums[r] <target:\n",
    "                                l+=1\n",
    "                            else:\n",
    "                                r-=1\n",
    "        return sav\n",
    "                            "
   ]
  },
  {
   "cell_type": "code",
   "execution_count": 93,
   "metadata": {},
   "outputs": [],
   "source": [
    "a=Solution()"
   ]
  },
  {
   "cell_type": "code",
   "execution_count": 94,
   "metadata": {},
   "outputs": [
    {
     "data": {
      "text/plain": [
       "[[-2, -1, 1, 2], [-2, 0, 0, 2], [-1, 0, 0, 1]]"
      ]
     },
     "execution_count": 94,
     "metadata": {},
     "output_type": "execute_result"
    }
   ],
   "source": [
    "a.fourSum([1, 0, -1, 0, -2, 2],0)"
   ]
  },
  {
   "cell_type": "markdown",
   "metadata": {},
   "source": [
    "#### 26. 删除排序数组中的重复项(e)"
   ]
  },
  {
   "cell_type": "code",
   "execution_count": 98,
   "metadata": {},
   "outputs": [],
   "source": [
    "class Solution:\n",
    "    def removeDuplicates(self, nums):\n",
    "        if not nums:\n",
    "            return 0\n",
    "        i = 0\n",
    "        for j in range(1,len(nums)):\n",
    "            if nums[j] == nums[i]:\n",
    "                continue\n",
    "            else:\n",
    "                nums[i+1] = nums[j]\n",
    "                i +=1\n",
    "        return i+1"
   ]
  },
  {
   "cell_type": "code",
   "execution_count": 99,
   "metadata": {},
   "outputs": [],
   "source": [
    "a=Solution()"
   ]
  },
  {
   "cell_type": "code",
   "execution_count": 100,
   "metadata": {},
   "outputs": [
    {
     "data": {
      "text/plain": [
       "2"
      ]
     },
     "execution_count": 100,
     "metadata": {},
     "output_type": "execute_result"
    }
   ],
   "source": [
    "a.removeDuplicates([1,1,2])"
   ]
  },
  {
   "cell_type": "code",
   "execution_count": 101,
   "metadata": {
    "scrolled": true
   },
   "outputs": [
    {
     "data": {
      "text/plain": [
       "0"
      ]
     },
     "execution_count": 101,
     "metadata": {},
     "output_type": "execute_result"
    }
   ],
   "source": [
    "a.removeDuplicates([])"
   ]
  },
  {
   "cell_type": "markdown",
   "metadata": {},
   "source": [
    "#### 27.移除元素"
   ]
  },
  {
   "cell_type": "code",
   "execution_count": 213,
   "metadata": {},
   "outputs": [],
   "source": [
    "class Solution:\n",
    "    def removeElement(self, nums, val):\n",
    "        i = 0\n",
    "        for num in nums:\n",
    "            if num !=val:\n",
    "                nums[i] = num\n",
    "                i +=1\n",
    "        return i"
   ]
  },
  {
   "cell_type": "markdown",
   "metadata": {},
   "source": [
    "#### 80.删除排序数组的重复项II(m)"
   ]
  },
  {
   "cell_type": "code",
   "execution_count": 184,
   "metadata": {},
   "outputs": [],
   "source": [
    "class Solution:\n",
    "    def removeDuplicates(self, nums):\n",
    "        if not nums:\n",
    "            return 0\n",
    "        i =0\n",
    "        ct = 1\n",
    "        for j in range(1,len(nums)):\n",
    "            if nums[j] !=nums[i]:\n",
    "                nums[i+1] = nums[j]\n",
    "                i+=1\n",
    "                ct = 1\n",
    "            elif nums[j] == nums[i] and ct<2:\n",
    "                nums[i+1] = nums[j]\n",
    "                i+=1\n",
    "                ct +=1\n",
    "        return i+1"
   ]
  },
  {
   "cell_type": "code",
   "execution_count": 191,
   "metadata": {},
   "outputs": [],
   "source": [
    "a=Solution()"
   ]
  },
  {
   "cell_type": "code",
   "execution_count": 192,
   "metadata": {},
   "outputs": [
    {
     "data": {
      "text/plain": [
       "4"
      ]
     },
     "execution_count": 192,
     "metadata": {},
     "output_type": "execute_result"
    }
   ],
   "source": [
    "a.removeDuplicates([1,2,3,3])"
   ]
  },
  {
   "cell_type": "code",
   "execution_count": 193,
   "metadata": {},
   "outputs": [],
   "source": [
    "class Solution:\n",
    "    def removeDuplicates(self, nums):\n",
    "        i = 0\n",
    "        for num in nums:\n",
    "            if i<2 or num !=nums[i-2]:\n",
    "                nums[i] = num\n",
    "                i +=1\n",
    "        return i"
   ]
  },
  {
   "cell_type": "code",
   "execution_count": 194,
   "metadata": {},
   "outputs": [],
   "source": [
    "a=Solution()"
   ]
  },
  {
   "cell_type": "code",
   "execution_count": 195,
   "metadata": {},
   "outputs": [
    {
     "data": {
      "text/plain": [
       "4"
      ]
     },
     "execution_count": 195,
     "metadata": {},
     "output_type": "execute_result"
    }
   ],
   "source": [
    "a.removeDuplicates([1,2,3,3])"
   ]
  },
  {
   "cell_type": "markdown",
   "metadata": {},
   "source": [
    "#### 414.第三大的数(e)"
   ]
  },
  {
   "cell_type": "code",
   "execution_count": 210,
   "metadata": {},
   "outputs": [],
   "source": [
    "class Solution:\n",
    "    def thirdMax(self, nums):\n",
    "        if len(set(nums))<3:\n",
    "            return max(nums)\n",
    "        r1 = r2 = r3 = -float('inf')\n",
    "        for num in nums:\n",
    "            if num == r1 or num == r2 or num == r3:\n",
    "                continue\n",
    "            if num >= r1:\n",
    "                r1,r2,r3 = num,r1,r2\n",
    "            elif num >= r2:\n",
    "                r2,r3 = num,r2\n",
    "            elif num>= r3:\n",
    "                r3 = num\n",
    "        return r3\n",
    "        "
   ]
  },
  {
   "cell_type": "code",
   "execution_count": 211,
   "metadata": {},
   "outputs": [],
   "source": [
    "a=Solution()"
   ]
  },
  {
   "cell_type": "code",
   "execution_count": 212,
   "metadata": {},
   "outputs": [
    {
     "data": {
      "text/plain": [
       "1"
      ]
     },
     "execution_count": 212,
     "metadata": {},
     "output_type": "execute_result"
    }
   ],
   "source": [
    "a.thirdMax([1,2,2,3])"
   ]
  }
 ],
 "metadata": {
  "kernelspec": {
   "display_name": "Python 3",
   "language": "python",
   "name": "python3"
  },
  "language_info": {
   "codemirror_mode": {
    "name": "ipython",
    "version": 3
   },
   "file_extension": ".py",
   "mimetype": "text/x-python",
   "name": "python",
   "nbconvert_exporter": "python",
   "pygments_lexer": "ipython3",
   "version": "3.7.2"
  }
 },
 "nbformat": 4,
 "nbformat_minor": 2
}
